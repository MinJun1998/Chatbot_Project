{
 "cells": [
  {
   "cell_type": "markdown",
   "metadata": {},
   "source": [
    "## 네이버 지식IN- 전세"
   ]
  },
  {
   "cell_type": "code",
   "execution_count": 2,
   "metadata": {},
   "outputs": [],
   "source": [
    "import time\n",
    "import pandas as pd\n",
    "from selenium import webdriver\n",
    "from selenium.webdriver.common.by import By\n",
    "from bs4 import BeautifulSoup\n",
    "from urllib.parse import quote\n",
    "from tqdm import tqdm"
   ]
  },
  {
   "cell_type": "code",
   "execution_count": 4,
   "metadata": {},
   "outputs": [
    {
     "name": "stderr",
     "output_type": "stream",
     "text": [
      "The chromedriver version (117.0.5938.88) detected in PATH at C:\\Users\\human\\Downloads\\chromedriver.exe might not be compatible with the detected chrome version (118.0.5993.89); currently, chromedriver 118.0.5993.70 is recommended for chrome 118.*, so it is advised to delete the driver in PATH and retry\n"
     ]
    }
   ],
   "source": [
    "url = f'https://kin.naver.com/search/list.naver?query={quote(\"부동산전세\")}&page=1'\n",
    "driver = webdriver.Chrome()\n",
    "driver.get(url)\n",
    "soup = BeautifulSoup(driver.page_source, 'html.parser')"
   ]
  },
  {
   "cell_type": "code",
   "execution_count": 5,
   "metadata": {},
   "outputs": [
    {
     "data": {
      "text/plain": [
       "(0, 0)"
      ]
     },
     "execution_count": 5,
     "metadata": {},
     "output_type": "execute_result"
    }
   ],
   "source": [
    "sub_soup = BeautifulSoup(driver.page_source, 'html.parser')\n",
    "divs = sub_soup.select('#content > div.question-content > div > div.c-heading._questionContentsArea.c-heading--default-old > div.c-heading__content')\n",
    "divs2 = sub_soup.select('#answer_1 > div._endContents.c-heading-answer__content > div._endContentsText.c-heading-answer__content-user')\n",
    "len(divs),len(divs2)"
   ]
  },
  {
   "cell_type": "code",
   "execution_count": 6,
   "metadata": {},
   "outputs": [
    {
     "name": "stderr",
     "output_type": "stream",
     "text": [
      "The chromedriver version (117.0.5938.88) detected in PATH at C:\\Users\\human\\Downloads\\chromedriver.exe might not be compatible with the detected chrome version (118.0.5993.89); currently, chromedriver 118.0.5993.70 is recommended for chrome 118.*, so it is advised to delete the driver in PATH and retry\n"
     ]
    },
    {
     "ename": "NameError",
     "evalue": "name 'ans_list' is not defined",
     "output_type": "error",
     "traceback": [
      "\u001b[1;31m---------------------------------------------------------------------------\u001b[0m",
      "\u001b[1;31mNameError\u001b[0m                                 Traceback (most recent call last)",
      "\u001b[1;32md:\\WorkSpace\\ChatbotProject-2023.10\\01.부동산전세.ipynb 셀 5\u001b[0m line \u001b[0;36m3\n\u001b[0;32m     <a href='vscode-notebook-cell:/d%3A/WorkSpace/ChatbotProject-2023.10/01.%EB%B6%80%EB%8F%99%EC%82%B0%EC%A0%84%EC%84%B8.ipynb#W4sZmlsZQ%3D%3D?line=32'>33</a>\u001b[0m     \u001b[39mexcept\u001b[39;00m:\n\u001b[0;32m     <a href='vscode-notebook-cell:/d%3A/WorkSpace/ChatbotProject-2023.10/01.%EB%B6%80%EB%8F%99%EC%82%B0%EC%A0%84%EC%84%B8.ipynb#W4sZmlsZQ%3D%3D?line=33'>34</a>\u001b[0m         \u001b[39mcontinue\u001b[39;00m\n\u001b[1;32m---> <a href='vscode-notebook-cell:/d%3A/WorkSpace/ChatbotProject-2023.10/01.%EB%B6%80%EB%8F%99%EC%82%B0%EC%A0%84%EC%84%B8.ipynb#W4sZmlsZQ%3D%3D?line=34'>35</a>\u001b[0m last_list\u001b[39m.\u001b[39mappend({\u001b[39m'\u001b[39m\u001b[39m구분\u001b[39m\u001b[39m'\u001b[39m: \u001b[39m'\u001b[39m\u001b[39m전세\u001b[39m\u001b[39m'\u001b[39m, \u001b[39m'\u001b[39m\u001b[39m질문\u001b[39m\u001b[39m'\u001b[39m:ques_list, \u001b[39m'\u001b[39m\u001b[39m답변\u001b[39m\u001b[39m'\u001b[39m:ans_list})\n\u001b[0;32m     <a href='vscode-notebook-cell:/d%3A/WorkSpace/ChatbotProject-2023.10/01.%EB%B6%80%EB%8F%99%EC%82%B0%EC%A0%84%EC%84%B8.ipynb#W4sZmlsZQ%3D%3D?line=37'>38</a>\u001b[0m driver\u001b[39m.\u001b[39mback()\n\u001b[0;32m     <a href='vscode-notebook-cell:/d%3A/WorkSpace/ChatbotProject-2023.10/01.%EB%B6%80%EB%8F%99%EC%82%B0%EC%A0%84%EC%84%B8.ipynb#W4sZmlsZQ%3D%3D?line=38'>39</a>\u001b[0m time\u001b[39m.\u001b[39msleep(\u001b[39m2\u001b[39m)\n",
      "\u001b[1;31mNameError\u001b[0m: name 'ans_list' is not defined"
     ]
    }
   ],
   "source": [
    "# 질문과 답변 추츨하기 \n",
    "last_list = []\n",
    "driver = webdriver.Chrome()\n",
    "for page in range(1, 37):\n",
    "    url = f'https://kin.naver.com/search/list.naver?query={quote(\"부동산 전세\")}&page={page}'\n",
    "    driver.get(url)\n",
    "    time.sleep(3)\n",
    "\n",
    "    soup = BeautifulSoup(driver.page_source, 'html.parser')\n",
    "    lis = soup.select('.basic1 > li')\n",
    "\n",
    "    for li in lis:\n",
    "        sub_url = li.select_one('a._searchListTitleAnchor')['href']\n",
    "        driver.get(sub_url)\n",
    "        time.sleep(2)\n",
    "\n",
    "        divs = sub_soup.select('#content > div.question-content > div > div.c-heading._questionContentsArea.c-heading--default-old > div.c-heading__content')\n",
    "        sub_soup = BeautifulSoup(driver.page_source, 'html.parser')\n",
    "        ques_list = []\n",
    "        text = []\n",
    "        for p in divs:\n",
    "            text = p.get_text().strip()\n",
    "            ques_list.append(text)\n",
    "            ques_list = ''.join(ques_list)\n",
    "            divs2 = sub_soup.select('#answer_1 > div._endContents.c-heading-answer__content > div._endContentsText.c-heading-answer__content-user')\n",
    "            try:\n",
    "                for div in divs2:\n",
    "                    text = []\n",
    "                    ans_list = []\n",
    "                    for p in divs2:\n",
    "                        text = p.get_text().strip()\n",
    "                        ans_list.append(text)\n",
    "                        ans_list = ''.join(ans_list)\n",
    "            except:\n",
    "                continue\n",
    "        last_list.append({'구분': '전세', '질문':ques_list, '답변':ans_list})\n",
    "                \n",
    "\n",
    "        driver.back()\n",
    "        time.sleep(2)\n",
    "    print()\n",
    "\n",
    "driver.close()\n",
    "\n"
   ]
  },
  {
   "cell_type": "code",
   "execution_count": 2,
   "metadata": {},
   "outputs": [
    {
     "ename": "NameError",
     "evalue": "name 'last_list' is not defined",
     "output_type": "error",
     "traceback": [
      "\u001b[1;31m---------------------------------------------------------------------------\u001b[0m",
      "\u001b[1;31mNameError\u001b[0m                                 Traceback (most recent call last)",
      "\u001b[1;32md:\\WorkSpace\\ChatbotProject-2023.10\\01.부동산전세.ipynb 셀 6\u001b[0m line \u001b[0;36m1\n\u001b[1;32m----> <a href='vscode-notebook-cell:/d%3A/WorkSpace/ChatbotProject-2023.10/01.%EB%B6%80%EB%8F%99%EC%82%B0%EC%A0%84%EC%84%B8.ipynb#W5sZmlsZQ%3D%3D?line=0'>1</a>\u001b[0m df \u001b[39m=\u001b[39m pd\u001b[39m.\u001b[39mDataFrame(last_list)\n\u001b[0;32m      <a href='vscode-notebook-cell:/d%3A/WorkSpace/ChatbotProject-2023.10/01.%EB%B6%80%EB%8F%99%EC%82%B0%EC%A0%84%EC%84%B8.ipynb#W5sZmlsZQ%3D%3D?line=1'>2</a>\u001b[0m df\u001b[39m.\u001b[39mto_csv(\u001b[39m'\u001b[39m\u001b[39mdata/부동산전세.csv\u001b[39m\u001b[39m'\u001b[39m, index\u001b[39m=\u001b[39m\u001b[39mFalse\u001b[39;00m)\n",
      "\u001b[1;31mNameError\u001b[0m: name 'last_list' is not defined"
     ]
    }
   ],
   "source": [
    "# 크롤링한 데이터 저장\n",
    "df = pd.DataFrame(last_list)\n",
    "df.to_csv('data/부동산전세.csv', index=False)"
   ]
  }
 ],
 "metadata": {
  "kernelspec": {
   "display_name": "base",
   "language": "python",
   "name": "python3"
  },
  "language_info": {
   "codemirror_mode": {
    "name": "ipython",
    "version": 3
   },
   "file_extension": ".py",
   "mimetype": "text/x-python",
   "name": "python",
   "nbconvert_exporter": "python",
   "pygments_lexer": "ipython3",
   "version": "3.11.4"
  }
 },
 "nbformat": 4,
 "nbformat_minor": 2
}
