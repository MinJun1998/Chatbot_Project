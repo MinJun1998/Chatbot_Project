{
 "cells": [
  {
   "cell_type": "code",
   "execution_count": 2,
   "metadata": {},
   "outputs": [],
   "source": [
    "import pandas as pd\n",
    "import numpy as np"
   ]
  },
  {
   "cell_type": "code",
   "execution_count": 3,
   "metadata": {},
   "outputs": [
    {
     "data": {
      "text/html": [
       "<div>\n",
       "<style scoped>\n",
       "    .dataframe tbody tr th:only-of-type {\n",
       "        vertical-align: middle;\n",
       "    }\n",
       "\n",
       "    .dataframe tbody tr th {\n",
       "        vertical-align: top;\n",
       "    }\n",
       "\n",
       "    .dataframe thead th {\n",
       "        text-align: right;\n",
       "    }\n",
       "</style>\n",
       "<table border=\"1\" class=\"dataframe\">\n",
       "  <thead>\n",
       "    <tr style=\"text-align: right;\">\n",
       "      <th></th>\n",
       "      <th>SGG_NM</th>\n",
       "      <th>BJDONG_NM</th>\n",
       "      <th>FLR_NO</th>\n",
       "      <th>CNTRCT_DE</th>\n",
       "      <th>RENT_GBN</th>\n",
       "      <th>RENT_AREA</th>\n",
       "      <th>RENT_GTN</th>\n",
       "      <th>RENT_FEE</th>\n",
       "      <th>BLDG_NM</th>\n",
       "      <th>BUILD_YEAR</th>\n",
       "      <th>HOUSE_GBN_NM</th>\n",
       "    </tr>\n",
       "  </thead>\n",
       "  <tbody>\n",
       "    <tr>\n",
       "      <th>0</th>\n",
       "      <td>송파구</td>\n",
       "      <td>가락동</td>\n",
       "      <td>14.0</td>\n",
       "      <td>20231023</td>\n",
       "      <td>전세</td>\n",
       "      <td>84.42</td>\n",
       "      <td>60750</td>\n",
       "      <td>0</td>\n",
       "      <td>가락쌍용(2차)</td>\n",
       "      <td>1999</td>\n",
       "      <td>아파트</td>\n",
       "    </tr>\n",
       "    <tr>\n",
       "      <th>1</th>\n",
       "      <td>송파구</td>\n",
       "      <td>문정동</td>\n",
       "      <td>5.0</td>\n",
       "      <td>20231023</td>\n",
       "      <td>전세</td>\n",
       "      <td>170.70</td>\n",
       "      <td>90000</td>\n",
       "      <td>0</td>\n",
       "      <td>문정래미안</td>\n",
       "      <td>2004</td>\n",
       "      <td>아파트</td>\n",
       "    </tr>\n",
       "    <tr>\n",
       "      <th>2</th>\n",
       "      <td>노원구</td>\n",
       "      <td>상계동</td>\n",
       "      <td>9.0</td>\n",
       "      <td>20231023</td>\n",
       "      <td>전세</td>\n",
       "      <td>41.30</td>\n",
       "      <td>17000</td>\n",
       "      <td>0</td>\n",
       "      <td>상계주공12(고층)</td>\n",
       "      <td>1988</td>\n",
       "      <td>아파트</td>\n",
       "    </tr>\n",
       "    <tr>\n",
       "      <th>3</th>\n",
       "      <td>서초구</td>\n",
       "      <td>방배동</td>\n",
       "      <td>1.0</td>\n",
       "      <td>20231023</td>\n",
       "      <td>월세</td>\n",
       "      <td>49.61</td>\n",
       "      <td>54000</td>\n",
       "      <td>30</td>\n",
       "      <td>(878-17)</td>\n",
       "      <td>2018</td>\n",
       "      <td>연립다세대</td>\n",
       "    </tr>\n",
       "    <tr>\n",
       "      <th>4</th>\n",
       "      <td>금천구</td>\n",
       "      <td>시흥동</td>\n",
       "      <td>2.0</td>\n",
       "      <td>20231023</td>\n",
       "      <td>월세</td>\n",
       "      <td>51.00</td>\n",
       "      <td>8250</td>\n",
       "      <td>14</td>\n",
       "      <td>SEORAEHOUSE(서래하우스)</td>\n",
       "      <td>2021</td>\n",
       "      <td>연립다세대</td>\n",
       "    </tr>\n",
       "    <tr>\n",
       "      <th>...</th>\n",
       "      <td>...</td>\n",
       "      <td>...</td>\n",
       "      <td>...</td>\n",
       "      <td>...</td>\n",
       "      <td>...</td>\n",
       "      <td>...</td>\n",
       "      <td>...</td>\n",
       "      <td>...</td>\n",
       "      <td>...</td>\n",
       "      <td>...</td>\n",
       "      <td>...</td>\n",
       "    </tr>\n",
       "    <tr>\n",
       "      <th>8067</th>\n",
       "      <td>노원구</td>\n",
       "      <td>상계동</td>\n",
       "      <td>1.0</td>\n",
       "      <td>20231011</td>\n",
       "      <td>월세</td>\n",
       "      <td>32.39</td>\n",
       "      <td>1000</td>\n",
       "      <td>60</td>\n",
       "      <td>상계주공3(고층)</td>\n",
       "      <td>1987</td>\n",
       "      <td>아파트</td>\n",
       "    </tr>\n",
       "    <tr>\n",
       "      <th>8068</th>\n",
       "      <td>은평구</td>\n",
       "      <td>구산동</td>\n",
       "      <td>7.0</td>\n",
       "      <td>20231011</td>\n",
       "      <td>전세</td>\n",
       "      <td>84.89</td>\n",
       "      <td>47000</td>\n",
       "      <td>0</td>\n",
       "      <td>브라운스톤구산</td>\n",
       "      <td>2006</td>\n",
       "      <td>아파트</td>\n",
       "    </tr>\n",
       "    <tr>\n",
       "      <th>8069</th>\n",
       "      <td>도봉구</td>\n",
       "      <td>창동</td>\n",
       "      <td>2.0</td>\n",
       "      <td>20231011</td>\n",
       "      <td>전세</td>\n",
       "      <td>28.78</td>\n",
       "      <td>20800</td>\n",
       "      <td>0</td>\n",
       "      <td>북한산 파크</td>\n",
       "      <td>2018</td>\n",
       "      <td>오피스텔</td>\n",
       "    </tr>\n",
       "    <tr>\n",
       "      <th>8070</th>\n",
       "      <td>서초구</td>\n",
       "      <td>서초동</td>\n",
       "      <td>13.0</td>\n",
       "      <td>20231011</td>\n",
       "      <td>전세</td>\n",
       "      <td>79.47</td>\n",
       "      <td>80000</td>\n",
       "      <td>0</td>\n",
       "      <td>삼풍아파트</td>\n",
       "      <td>1988</td>\n",
       "      <td>아파트</td>\n",
       "    </tr>\n",
       "    <tr>\n",
       "      <th>8071</th>\n",
       "      <td>은평구</td>\n",
       "      <td>진관동</td>\n",
       "      <td>6.0</td>\n",
       "      <td>20231011</td>\n",
       "      <td>월세</td>\n",
       "      <td>39.83</td>\n",
       "      <td>5030</td>\n",
       "      <td>9</td>\n",
       "      <td>상림마을8단지롯데캐슬(810~820동)BL1-1</td>\n",
       "      <td>2008</td>\n",
       "      <td>아파트</td>\n",
       "    </tr>\n",
       "  </tbody>\n",
       "</table>\n",
       "<p>8072 rows × 11 columns</p>\n",
       "</div>"
      ],
      "text/plain": [
       "     SGG_NM BJDONG_NM  FLR_NO  CNTRCT_DE RENT_GBN  RENT_AREA  RENT_GTN  \\\n",
       "0       송파구       가락동    14.0   20231023       전세      84.42     60750   \n",
       "1       송파구       문정동     5.0   20231023       전세     170.70     90000   \n",
       "2       노원구       상계동     9.0   20231023       전세      41.30     17000   \n",
       "3       서초구       방배동     1.0   20231023       월세      49.61     54000   \n",
       "4       금천구       시흥동     2.0   20231023       월세      51.00      8250   \n",
       "...     ...       ...     ...        ...      ...        ...       ...   \n",
       "8067    노원구       상계동     1.0   20231011       월세      32.39      1000   \n",
       "8068    은평구       구산동     7.0   20231011       전세      84.89     47000   \n",
       "8069    도봉구        창동     2.0   20231011       전세      28.78     20800   \n",
       "8070    서초구       서초동    13.0   20231011       전세      79.47     80000   \n",
       "8071    은평구       진관동     6.0   20231011       월세      39.83      5030   \n",
       "\n",
       "      RENT_FEE                     BLDG_NM  BUILD_YEAR HOUSE_GBN_NM  \n",
       "0            0                    가락쌍용(2차)        1999          아파트  \n",
       "1            0                       문정래미안        2004          아파트  \n",
       "2            0                  상계주공12(고층)        1988          아파트  \n",
       "3           30                    (878-17)        2018        연립다세대  \n",
       "4           14          SEORAEHOUSE(서래하우스)        2021        연립다세대  \n",
       "...        ...                         ...         ...          ...  \n",
       "8067        60                   상계주공3(고층)        1987          아파트  \n",
       "8068         0                     브라운스톤구산        2006          아파트  \n",
       "8069         0                      북한산 파크        2018         오피스텔  \n",
       "8070         0                       삼풍아파트        1988          아파트  \n",
       "8071         9  상림마을8단지롯데캐슬(810~820동)BL1-1        2008          아파트  \n",
       "\n",
       "[8072 rows x 11 columns]"
      ]
     },
     "execution_count": 3,
     "metadata": {},
     "output_type": "execute_result"
    }
   ],
   "source": [
    "df = pd.read_csv('data/서울전월세_전처리.csv')\n",
    "df"
   ]
  },
  {
   "cell_type": "code",
   "execution_count": 4,
   "metadata": {},
   "outputs": [
    {
     "name": "stdout",
     "output_type": "stream",
     "text": [
      "(8072, 1) 302\n"
     ]
    }
   ],
   "source": [
    "# SGG_NM컬럼을 셀렉해서 중복을 제외한 값\n",
    "all_dong = df[['BJDONG_NM']]\n",
    "print(all_dong.shape, all_dong.BJDONG_NM.nunique())"
   ]
  },
  {
   "cell_type": "code",
   "execution_count": 5,
   "metadata": {},
   "outputs": [
    {
     "name": "stderr",
     "output_type": "stream",
     "text": [
      "C:\\Users\\human\\AppData\\Local\\Temp\\ipykernel_25848\\645947679.py:2: SettingWithCopyWarning: \n",
      "A value is trying to be set on a copy of a slice from a DataFrame\n",
      "\n",
      "See the caveats in the documentation: https://pandas.pydata.org/pandas-docs/stable/user_guide/indexing.html#returning-a-view-versus-a-copy\n",
      "  all_dong.drop_duplicates(subset=['BJDONG_NM'], inplace=True)\n"
     ]
    },
    {
     "data": {
      "text/plain": [
       "(302, 1)"
      ]
     },
     "execution_count": 5,
     "metadata": {},
     "output_type": "execute_result"
    }
   ],
   "source": [
    "# SGG_NM컬럼 중복제거\n",
    "all_dong.drop_duplicates(subset=['BJDONG_NM'], inplace=True)\n",
    "all_dong.shape"
   ]
  },
  {
   "cell_type": "code",
   "execution_count": 6,
   "metadata": {},
   "outputs": [],
   "source": [
    "# 뒤죽박죽 되어있는 인덱스 리셋\n",
    "all_dong = all_dong.reset_index()\n",
    "list_dong = all_dong['BJDONG_NM']\n"
   ]
  },
  {
   "cell_type": "code",
   "execution_count": 7,
   "metadata": {},
   "outputs": [
    {
     "data": {
      "text/plain": [
       "RangeIndex(start=0, stop=302, step=1)"
      ]
     },
     "execution_count": 7,
     "metadata": {},
     "output_type": "execute_result"
    }
   ],
   "source": [
    "# 리스트동의 인덱스\n",
    "list_dong.index"
   ]
  },
  {
   "cell_type": "code",
   "execution_count": 8,
   "metadata": {},
   "outputs": [
    {
     "data": {
      "text/plain": [
       "'상계동'"
      ]
     },
     "execution_count": 8,
     "metadata": {},
     "output_type": "execute_result"
    }
   ],
   "source": [
    "# 출력테스트\n",
    "list_dong[2]"
   ]
  },
  {
   "cell_type": "code",
   "execution_count": 9,
   "metadata": {},
   "outputs": [],
   "source": [
    "text = []"
   ]
  },
  {
   "cell_type": "code",
   "execution_count": 15,
   "metadata": {},
   "outputs": [
    {
     "data": {
      "text/plain": [
       "275"
      ]
     },
     "execution_count": 15,
     "metadata": {},
     "output_type": "execute_result"
    }
   ],
   "source": [
    "#모든동의 보증금이 가장싼 전세 반복\n",
    "last = []\n",
    "else_data = []\n",
    "for i in list_dong.index:\n",
    "    min = []\n",
    "    input = df[df.BJDONG_NM == list_dong[i]]\n",
    "    input = input[input.RENT_GBN == '전세'] # 전세or월세\n",
    "    try:\n",
    "        min = input['RENT_GTN'].idxmin()    # RENT\n",
    "        min = input.loc[min]\n",
    "        last.append(min)\n",
    "    except:\n",
    "        else_data.append(list_dong[i] + '의 (전세)거래내역이 없습니다')\n",
    "dcm = pd.DataFrame(last)\n",
    "dcm = dcm.reset_index()\n",
    "dcm.drop(columns=['index'], inplace=True)\n",
    "dcm\n",
    "question = []\n",
    "answer = []\n",
    "for i in dcm.index:\n",
    "    question_data = dcm.BJDONG_NM[i] + '전세' + '보증금' + '가장싼'\n",
    "    question.append(question_data)\n",
    "\n",
    "for i in dcm.index:\n",
    "    answer_data = dcm.BJDONG_NM[i] + '에서 보증금이 가장싸게 거래된 내역은 m²(임대면적) 기준으로 보증금 ' + str(dcm.RENT_GTN[i]) + '만원 ' + str(dcm.RENT_GBN[i]) + '로 거래되었습니다.'\n",
    "    answer.append(answer_data)\n",
    "question\n",
    "len(answer)"
   ]
  },
  {
   "cell_type": "code",
   "execution_count": 9,
   "metadata": {},
   "outputs": [
    {
     "data": {
      "text/plain": [
       "['성북동1가의 (전세)거래내역이 없습니다',\n",
       " '연남동의 (전세)거래내역이 없습니다',\n",
       " '평창동의 (전세)거래내역이 없습니다',\n",
       " '동소문동6가의 (전세)거래내역이 없습니다',\n",
       " '냉천동의 (전세)거래내역이 없습니다',\n",
       " '광희동1가의 (전세)거래내역이 없습니다',\n",
       " '행촌동의 (전세)거래내역이 없습니다',\n",
       " '흥인동의 (전세)거래내역이 없습니다',\n",
       " '동교동의 (전세)거래내역이 없습니다',\n",
       " '누하동의 (전세)거래내역이 없습니다',\n",
       " '만리동1가의 (전세)거래내역이 없습니다',\n",
       " '부암동의 (전세)거래내역이 없습니다',\n",
       " '누상동의 (전세)거래내역이 없습니다',\n",
       " '한강로2가의 (전세)거래내역이 없습니다',\n",
       " '창천동의 (전세)거래내역이 없습니다',\n",
       " '충정로2가의 (전세)거래내역이 없습니다',\n",
       " '서빙고동의 (전세)거래내역이 없습니다',\n",
       " '보문동2가의 (전세)거래내역이 없습니다',\n",
       " '하중동의 (전세)거래내역이 없습니다',\n",
       " '보문동7가의 (전세)거래내역이 없습니다',\n",
       " '장충동1가의 (전세)거래내역이 없습니다',\n",
       " '필동1가의 (전세)거래내역이 없습니다',\n",
       " '합동의 (전세)거래내역이 없습니다',\n",
       " '구수동의 (전세)거래내역이 없습니다',\n",
       " '충무로3가의 (전세)거래내역이 없습니다',\n",
       " '삼선동4가의 (전세)거래내역이 없습니다',\n",
       " '충무로5가의 (전세)거래내역이 없습니다']"
      ]
     },
     "execution_count": 9,
     "metadata": {},
     "output_type": "execute_result"
    }
   ],
   "source": [
    "len(else_data)      # 거래내역이없는동"
   ]
  },
  {
   "cell_type": "code",
   "execution_count": 18,
   "metadata": {},
   "outputs": [
    {
     "data": {
      "text/plain": [
       "265"
      ]
     },
     "execution_count": 18,
     "metadata": {},
     "output_type": "execute_result"
    }
   ],
   "source": [
    "#모든동의 보증금이 가장싼 월세 반복\n",
    "last = []\n",
    "else_data = []\n",
    "for i in list_dong.index:\n",
    "    min = []\n",
    "    input = df[df.BJDONG_NM == list_dong[i]]\n",
    "    input = input[input.RENT_GBN == '월세'] # 전세or월세\n",
    "    try:\n",
    "        min = input['RENT_GTN'].idxmin()    # RENT_GTN = 보증금, RENT_FEE = 임대료\n",
    "        min = input.loc[min]\n",
    "        last.append(min)\n",
    "    except:\n",
    "        else_data.append(list_dong[i] + '의 (월세)거래내역이 없습니다')\n",
    "dcm = pd.DataFrame(last)\n",
    "dcm = dcm.reset_index()\n",
    "dcm.drop(columns=['index'], inplace=True)\n",
    "dcm\n",
    "question = []\n",
    "answer = []\n",
    "for i in dcm.index:\n",
    "    question_data = dcm.BJDONG_NM[i] + '월세' + '보증금' + '가장싼'\n",
    "    question.append(question_data)\n",
    "\n",
    "for i in dcm.index:\n",
    "    answer_data = dcm.BJDONG_NM[i] + '에서 보증금이 가장싸게 거래된 내역은 m²(임대면적) 기준으로 보증금 ' + str(dcm.RENT_GTN[i]) + '만원 ' + str(dcm.RENT_GBN[i]) + '로 거래되었습니다.'\n",
    "    answer.append(answer_data)\n",
    "question\n",
    "len(answer)"
   ]
  },
  {
   "cell_type": "code",
   "execution_count": 19,
   "metadata": {},
   "outputs": [
    {
     "data": {
      "text/plain": [
       "37"
      ]
     },
     "execution_count": 19,
     "metadata": {},
     "output_type": "execute_result"
    }
   ],
   "source": [
    "len(else_data)      # 거래내역이 없는동"
   ]
  },
  {
   "cell_type": "code",
   "execution_count": 21,
   "metadata": {},
   "outputs": [
    {
     "data": {
      "text/plain": [
       "265"
      ]
     },
     "execution_count": 21,
     "metadata": {},
     "output_type": "execute_result"
    }
   ],
   "source": [
    "#모든동의 보증금이 가장싼 월세 반복\n",
    "last = []\n",
    "else_data = []\n",
    "for i in list_dong.index:\n",
    "    min = []\n",
    "    input = df[df.BJDONG_NM == list_dong[i]]\n",
    "    input = input[input.RENT_GBN == '월세'] # 전세or월세\n",
    "    try:\n",
    "        min = input['RENT_FEE'].idxmin()    # RENT_GTN = 보증금, RENT_FEE = 임대료\n",
    "        min = input.loc[min]\n",
    "        last.append(min)\n",
    "    except:\n",
    "        else_data.append(list_dong[i] + '의 (월세)거래내역이 없습니다')\n",
    "dcm = pd.DataFrame(last)\n",
    "dcm = dcm.reset_index()\n",
    "dcm.drop(columns=['index'], inplace=True)\n",
    "dcm\n",
    "\n",
    "question = []\n",
    "answer = []\n",
    "for i in dcm.index:\n",
    "    question_data = dcm.BJDONG_NM[i] + '월세' + '임대료' + '가장싼'\n",
    "    question.append(question_data)\n",
    "\n",
    "for i in dcm.index:\n",
    "    answer_data = dcm.BJDONG_NM[i] + '에서 임대료가 가장싸게 거래된 내역은 m²(임대면적) 기준으로 보증금 ' + str(dcm['RENT_GTN'][i]) + '만원 임대료는 ' + str(dcm['RENT_FEE'][i]) + '만원에 ' + str(dcm['RENT_GBN'][i]) + '로 거래되었습니다.'\n",
    "    answer.append(answer_data)\n",
    "question\n",
    "len(answer)"
   ]
  },
  {
   "cell_type": "code",
   "execution_count": 22,
   "metadata": {},
   "outputs": [
    {
     "data": {
      "text/plain": [
       "37"
      ]
     },
     "execution_count": 22,
     "metadata": {},
     "output_type": "execute_result"
    }
   ],
   "source": [
    "len(else_data)"
   ]
  },
  {
   "cell_type": "code",
   "execution_count": null,
   "metadata": {},
   "outputs": [],
   "source": []
  }
 ],
 "metadata": {
  "kernelspec": {
   "display_name": "base",
   "language": "python",
   "name": "python3"
  },
  "language_info": {
   "codemirror_mode": {
    "name": "ipython",
    "version": 3
   },
   "file_extension": ".py",
   "mimetype": "text/x-python",
   "name": "python",
   "nbconvert_exporter": "python",
   "pygments_lexer": "ipython3",
   "version": "3.11.4"
  }
 },
 "nbformat": 4,
 "nbformat_minor": 2
}
