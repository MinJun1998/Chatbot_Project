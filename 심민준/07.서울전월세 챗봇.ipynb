{
 "cells": [
  {
   "cell_type": "code",
   "execution_count": 1,
   "metadata": {},
   "outputs": [],
   "source": [
    "import pandas as pd\n",
    "from sentence_transformers import SentenceTransformer\n",
    "from sklearn.metrics.pairwise import cosine_similarity "
   ]
  },
  {
   "cell_type": "code",
   "execution_count": 2,
   "metadata": {},
   "outputs": [],
   "source": [
    "# \n",
    "model = SentenceTransformer('jhgan/ko-sroberta-multitask')"
   ]
  },
  {
   "cell_type": "markdown",
   "metadata": {},
   "source": [
    "- 챗봇"
   ]
  },
  {
   "cell_type": "code",
   "execution_count": 3,
   "metadata": {},
   "outputs": [
    {
     "data": {
      "text/html": [
       "<div>\n",
       "<style scoped>\n",
       "    .dataframe tbody tr th:only-of-type {\n",
       "        vertical-align: middle;\n",
       "    }\n",
       "\n",
       "    .dataframe tbody tr th {\n",
       "        vertical-align: top;\n",
       "    }\n",
       "\n",
       "    .dataframe thead th {\n",
       "        text-align: right;\n",
       "    }\n",
       "</style>\n",
       "<table border=\"1\" class=\"dataframe\">\n",
       "  <thead>\n",
       "    <tr style=\"text-align: right;\">\n",
       "      <th></th>\n",
       "      <th>구분</th>\n",
       "      <th>질문</th>\n",
       "      <th>답변</th>\n",
       "      <th>embedding</th>\n",
       "    </tr>\n",
       "  </thead>\n",
       "  <tbody>\n",
       "    <tr>\n",
       "      <th>0</th>\n",
       "      <td>전월세가</td>\n",
       "      <td>용산구 도원동에 있는 2001년에 지어진 도원동삼성래미안(임대) 아파트은/는 16....</td>\n",
       "      <td>용산구 도원동에 있는 2001년에 지어진 도원동삼성래미안(임대) 아파트은/는 16....</td>\n",
       "      <td>[-0.7889131, -0.47861174, 0.5020292, 0.3055239...</td>\n",
       "    </tr>\n",
       "    <tr>\n",
       "      <th>1</th>\n",
       "      <td>전월세가</td>\n",
       "      <td>송파구 장지동에 있는 2007년에 지어진 송파파인타운10단지 아파트은/는 2.0층 ...</td>\n",
       "      <td>송파구 장지동에 있는 2007년에 지어진 송파파인타운10단지 아파트은/는 2.0층 ...</td>\n",
       "      <td>[-0.8266182, 0.2506916, -0.046704587, -0.04070...</td>\n",
       "    </tr>\n",
       "    <tr>\n",
       "      <th>2</th>\n",
       "      <td>전월세가</td>\n",
       "      <td>은평구 역촌동에 있는 2020년에 지어진 헤르미온 연립다세대은/는 13.0층 16....</td>\n",
       "      <td>은평구 역촌동에 있는 2020년에 지어진 헤르미온 연립다세대은/는 13.0층 16....</td>\n",
       "      <td>[-0.24127756, 0.006681199, 0.45816517, -0.0570...</td>\n",
       "    </tr>\n",
       "  </tbody>\n",
       "</table>\n",
       "</div>"
      ],
      "text/plain": [
       "     구분                                                 질문  \\\n",
       "0  전월세가  용산구 도원동에 있는 2001년에 지어진 도원동삼성래미안(임대) 아파트은/는 16....   \n",
       "1  전월세가  송파구 장지동에 있는 2007년에 지어진 송파파인타운10단지 아파트은/는 2.0층 ...   \n",
       "2  전월세가  은평구 역촌동에 있는 2020년에 지어진 헤르미온 연립다세대은/는 13.0층 16....   \n",
       "\n",
       "                                                  답변  \\\n",
       "0  용산구 도원동에 있는 2001년에 지어진 도원동삼성래미안(임대) 아파트은/는 16....   \n",
       "1  송파구 장지동에 있는 2007년에 지어진 송파파인타운10단지 아파트은/는 2.0층 ...   \n",
       "2  은평구 역촌동에 있는 2020년에 지어진 헤르미온 연립다세대은/는 13.0층 16....   \n",
       "\n",
       "                                           embedding  \n",
       "0  [-0.7889131, -0.47861174, 0.5020292, 0.3055239...  \n",
       "1  [-0.8266182, 0.2506916, -0.046704587, -0.04070...  \n",
       "2  [-0.24127756, 0.006681199, 0.45816517, -0.0570...  "
      ]
     },
     "execution_count": 3,
     "metadata": {},
     "output_type": "execute_result"
    }
   ],
   "source": [
    "import json\n",
    "wdf = pd.read_csv('data/서울전월세_임베딩.csv')\n",
    "wdf.embedding = wdf.embedding.apply(json.loads)\n",
    "wdf.head(3)"
   ]
  },
  {
   "cell_type": "code",
   "execution_count": 4,
   "metadata": {},
   "outputs": [],
   "source": [
    "text = '서울 월세 싼곳 추천해주세요'\n",
    "embedding = model.encode(text)"
   ]
  },
  {
   "cell_type": "code",
   "execution_count": 5,
   "metadata": {},
   "outputs": [
    {
     "data": {
      "text/html": [
       "<div>\n",
       "<style scoped>\n",
       "    .dataframe tbody tr th:only-of-type {\n",
       "        vertical-align: middle;\n",
       "    }\n",
       "\n",
       "    .dataframe tbody tr th {\n",
       "        vertical-align: top;\n",
       "    }\n",
       "\n",
       "    .dataframe thead th {\n",
       "        text-align: right;\n",
       "    }\n",
       "</style>\n",
       "<table border=\"1\" class=\"dataframe\">\n",
       "  <thead>\n",
       "    <tr style=\"text-align: right;\">\n",
       "      <th></th>\n",
       "      <th>구분</th>\n",
       "      <th>질문</th>\n",
       "      <th>답변</th>\n",
       "      <th>embedding</th>\n",
       "      <th>유사도</th>\n",
       "    </tr>\n",
       "  </thead>\n",
       "  <tbody>\n",
       "    <tr>\n",
       "      <th>0</th>\n",
       "      <td>전월세가</td>\n",
       "      <td>용산구 도원동에 있는 2001년에 지어진 도원동삼성래미안(임대) 아파트은/는 16....</td>\n",
       "      <td>용산구 도원동에 있는 2001년에 지어진 도원동삼성래미안(임대) 아파트은/는 16....</td>\n",
       "      <td>[-0.7889131, -0.47861174, 0.5020292, 0.3055239...</td>\n",
       "      <td>0.373118</td>\n",
       "    </tr>\n",
       "    <tr>\n",
       "      <th>1</th>\n",
       "      <td>전월세가</td>\n",
       "      <td>송파구 장지동에 있는 2007년에 지어진 송파파인타운10단지 아파트은/는 2.0층 ...</td>\n",
       "      <td>송파구 장지동에 있는 2007년에 지어진 송파파인타운10단지 아파트은/는 2.0층 ...</td>\n",
       "      <td>[-0.8266182, 0.2506916, -0.046704587, -0.04070...</td>\n",
       "      <td>0.358620</td>\n",
       "    </tr>\n",
       "    <tr>\n",
       "      <th>2</th>\n",
       "      <td>전월세가</td>\n",
       "      <td>은평구 역촌동에 있는 2020년에 지어진 헤르미온 연립다세대은/는 13.0층 16....</td>\n",
       "      <td>은평구 역촌동에 있는 2020년에 지어진 헤르미온 연립다세대은/는 13.0층 16....</td>\n",
       "      <td>[-0.24127756, 0.006681199, 0.45816517, -0.0570...</td>\n",
       "      <td>0.465966</td>\n",
       "    </tr>\n",
       "  </tbody>\n",
       "</table>\n",
       "</div>"
      ],
      "text/plain": [
       "     구분                                                 질문  \\\n",
       "0  전월세가  용산구 도원동에 있는 2001년에 지어진 도원동삼성래미안(임대) 아파트은/는 16....   \n",
       "1  전월세가  송파구 장지동에 있는 2007년에 지어진 송파파인타운10단지 아파트은/는 2.0층 ...   \n",
       "2  전월세가  은평구 역촌동에 있는 2020년에 지어진 헤르미온 연립다세대은/는 13.0층 16....   \n",
       "\n",
       "                                                  답변  \\\n",
       "0  용산구 도원동에 있는 2001년에 지어진 도원동삼성래미안(임대) 아파트은/는 16....   \n",
       "1  송파구 장지동에 있는 2007년에 지어진 송파파인타운10단지 아파트은/는 2.0층 ...   \n",
       "2  은평구 역촌동에 있는 2020년에 지어진 헤르미온 연립다세대은/는 13.0층 16....   \n",
       "\n",
       "                                           embedding       유사도  \n",
       "0  [-0.7889131, -0.47861174, 0.5020292, 0.3055239...  0.373118  \n",
       "1  [-0.8266182, 0.2506916, -0.046704587, -0.04070...  0.358620  \n",
       "2  [-0.24127756, 0.006681199, 0.45816517, -0.0570...  0.465966  "
      ]
     },
     "execution_count": 5,
     "metadata": {},
     "output_type": "execute_result"
    }
   ],
   "source": [
    "wdf['유사도'] = wdf.embedding.map(lambda x: cosine_similarity([embedding], [x]).squeeze())\n",
    "wdf.head(3)"
   ]
  },
  {
   "cell_type": "code",
   "execution_count": 6,
   "metadata": {},
   "outputs": [
    {
     "data": {
      "text/plain": [
       "313"
      ]
     },
     "execution_count": 6,
     "metadata": {},
     "output_type": "execute_result"
    }
   ],
   "source": [
    "wdf.유사도.idxmax()"
   ]
  },
  {
   "cell_type": "code",
   "execution_count": 7,
   "metadata": {},
   "outputs": [
    {
     "data": {
      "text/html": [
       "<div>\n",
       "<style scoped>\n",
       "    .dataframe tbody tr th:only-of-type {\n",
       "        vertical-align: middle;\n",
       "    }\n",
       "\n",
       "    .dataframe tbody tr th {\n",
       "        vertical-align: top;\n",
       "    }\n",
       "\n",
       "    .dataframe thead th {\n",
       "        text-align: right;\n",
       "    }\n",
       "</style>\n",
       "<table border=\"1\" class=\"dataframe\">\n",
       "  <thead>\n",
       "    <tr style=\"text-align: right;\">\n",
       "      <th></th>\n",
       "      <th>구분</th>\n",
       "      <th>질문</th>\n",
       "      <th>답변</th>\n",
       "      <th>embedding</th>\n",
       "      <th>유사도</th>\n",
       "    </tr>\n",
       "  </thead>\n",
       "  <tbody>\n",
       "    <tr>\n",
       "      <th>0</th>\n",
       "      <td>전월세가</td>\n",
       "      <td>용산구 도원동에 있는 2001년에 지어진 도원동삼성래미안(임대) 아파트은/는 16....</td>\n",
       "      <td>용산구 도원동에 있는 2001년에 지어진 도원동삼성래미안(임대) 아파트은/는 16....</td>\n",
       "      <td>[-0.7889131, -0.47861174, 0.5020292, 0.3055239...</td>\n",
       "      <td>0.373118</td>\n",
       "    </tr>\n",
       "    <tr>\n",
       "      <th>0</th>\n",
       "      <td>전월세가</td>\n",
       "      <td>용산구 도원동에 있는 2001년에 지어진 도원동삼성래미안(임대) 아파트은/는 16....</td>\n",
       "      <td>용산구 도원동에 있는 2001년에 지어진 도원동삼성래미안(임대) 아파트은/는 16....</td>\n",
       "      <td>[-0.7889131, -0.47861174, 0.5020292, 0.3055239...</td>\n",
       "      <td>0.373118</td>\n",
       "    </tr>\n",
       "    <tr>\n",
       "      <th>0</th>\n",
       "      <td>전월세가</td>\n",
       "      <td>용산구 도원동에 있는 2001년에 지어진 도원동삼성래미안(임대) 아파트은/는 16....</td>\n",
       "      <td>용산구 도원동에 있는 2001년에 지어진 도원동삼성래미안(임대) 아파트은/는 16....</td>\n",
       "      <td>[-0.7889131, -0.47861174, 0.5020292, 0.3055239...</td>\n",
       "      <td>0.373118</td>\n",
       "    </tr>\n",
       "    <tr>\n",
       "      <th>0</th>\n",
       "      <td>전월세가</td>\n",
       "      <td>용산구 도원동에 있는 2001년에 지어진 도원동삼성래미안(임대) 아파트은/는 16....</td>\n",
       "      <td>용산구 도원동에 있는 2001년에 지어진 도원동삼성래미안(임대) 아파트은/는 16....</td>\n",
       "      <td>[-0.7889131, -0.47861174, 0.5020292, 0.3055239...</td>\n",
       "      <td>0.373118</td>\n",
       "    </tr>\n",
       "    <tr>\n",
       "      <th>0</th>\n",
       "      <td>전월세가</td>\n",
       "      <td>용산구 도원동에 있는 2001년에 지어진 도원동삼성래미안(임대) 아파트은/는 16....</td>\n",
       "      <td>용산구 도원동에 있는 2001년에 지어진 도원동삼성래미안(임대) 아파트은/는 16....</td>\n",
       "      <td>[-0.7889131, -0.47861174, 0.5020292, 0.3055239...</td>\n",
       "      <td>0.373118</td>\n",
       "    </tr>\n",
       "  </tbody>\n",
       "</table>\n",
       "</div>"
      ],
      "text/plain": [
       "     구분                                                 질문  \\\n",
       "0  전월세가  용산구 도원동에 있는 2001년에 지어진 도원동삼성래미안(임대) 아파트은/는 16....   \n",
       "0  전월세가  용산구 도원동에 있는 2001년에 지어진 도원동삼성래미안(임대) 아파트은/는 16....   \n",
       "0  전월세가  용산구 도원동에 있는 2001년에 지어진 도원동삼성래미안(임대) 아파트은/는 16....   \n",
       "0  전월세가  용산구 도원동에 있는 2001년에 지어진 도원동삼성래미안(임대) 아파트은/는 16....   \n",
       "0  전월세가  용산구 도원동에 있는 2001년에 지어진 도원동삼성래미안(임대) 아파트은/는 16....   \n",
       "\n",
       "                                                  답변  \\\n",
       "0  용산구 도원동에 있는 2001년에 지어진 도원동삼성래미안(임대) 아파트은/는 16....   \n",
       "0  용산구 도원동에 있는 2001년에 지어진 도원동삼성래미안(임대) 아파트은/는 16....   \n",
       "0  용산구 도원동에 있는 2001년에 지어진 도원동삼성래미안(임대) 아파트은/는 16....   \n",
       "0  용산구 도원동에 있는 2001년에 지어진 도원동삼성래미안(임대) 아파트은/는 16....   \n",
       "0  용산구 도원동에 있는 2001년에 지어진 도원동삼성래미안(임대) 아파트은/는 16....   \n",
       "\n",
       "                                           embedding       유사도  \n",
       "0  [-0.7889131, -0.47861174, 0.5020292, 0.3055239...  0.373118  \n",
       "0  [-0.7889131, -0.47861174, 0.5020292, 0.3055239...  0.373118  \n",
       "0  [-0.7889131, -0.47861174, 0.5020292, 0.3055239...  0.373118  \n",
       "0  [-0.7889131, -0.47861174, 0.5020292, 0.3055239...  0.373118  \n",
       "0  [-0.7889131, -0.47861174, 0.5020292, 0.3055239...  0.373118  "
      ]
     },
     "execution_count": 7,
     "metadata": {},
     "output_type": "execute_result"
    }
   ],
   "source": [
    "wdf.iloc[wdf.유사도.nlargest(5)]"
   ]
  },
  {
   "cell_type": "code",
   "execution_count": 8,
   "metadata": {},
   "outputs": [],
   "source": [
    "answer = 5\n",
    "sr = [wdf['답변'][i] for i in wdf['유사도'].argsort()[:-answer-1:-1]]"
   ]
  },
  {
   "cell_type": "code",
   "execution_count": 9,
   "metadata": {},
   "outputs": [
    {
     "name": "stdout",
     "output_type": "stream",
     "text": [
      "1: 동작구 상도1동에 있는 2012년에 지어진 J+CRESIDENCE 연립다세대은/는 4.0층 13.26m²(임대면적) 기준으로 보증금 3000만원 임대료는 42만원에 월세로 거래되었습니다.\n",
      "2: 관악구 봉천동에 있는 2017년에 지어진 햇빛(180-360) 연립다세대은/는 3.0층 15.0m²(임대면적) 기준으로 보증금 2000만원 임대료는 22만원에 월세로 거래되었습니다.\n",
      "3: 성북구 길음동에 있는 2005년에 지어진 길음뉴타운4단지(e편한세상) 아파트은/는 19.0층 59.86m²(임대면적) 기준으로 보증금 15000만원 임대료는 80만원에 월세로 거래되었습니다.\n",
      "4: 성북구 돈암동에 있는 1998년에 지어진 한진(609-1) 아파트은/는 16.0층 113.67m²(임대면적) 기준으로 보증금 5250만원 임대료는 190만원에 월세로 거래되었습니다.\n",
      "5: 구로구 고척동에 있는 2016년에 지어진 엘림하우스 연립다세대은/는 4.0층 56.14m²(임대면적) 기준으로 보증금 4358만원 임대료는 10만원에 월세로 거래되었습니다.\n"
     ]
    }
   ],
   "source": [
    "for i, response in enumerate(sr, 1):\n",
    "    print(f\"{i}: {response}\")"
   ]
  },
  {
   "cell_type": "code",
   "execution_count": 10,
   "metadata": {},
   "outputs": [
    {
     "data": {
      "text/plain": [
       "'동작구 상도1동에 있는 2012년에 지어진 J+CRESIDENCE 연립다세대은/는 4.0층 13.26m²(임대면적) 기준으로 보증금 3000만원 임대료는 42만원에 월세로 거래되었습니다.'"
      ]
     },
     "execution_count": 10,
     "metadata": {},
     "output_type": "execute_result"
    }
   ],
   "source": [
    "wdf.답변[wdf.유사도.idxmax()]"
   ]
  },
  {
   "cell_type": "code",
   "execution_count": 17,
   "metadata": {},
   "outputs": [
    {
     "name": "stdout",
     "output_type": "stream",
     "text": [
      "1: 서초구 양재동에 있는 2015년에 지어진 良才舍廊 연립다세대은/는 2.0층 28.28m²(임대면적) 기준으로 보증금 17000만원 임대료는 8만원에 월세로 거래되었습니다.\n",
      "2: 서초구 양재동에 있는 2021년에 지어진 서원빌가동 연립다세대은/는 3.0층 38.96m²(임대면적) 기준으로 보증금 100만원 임대료는 85만원에 월세로 거래되었습니다.\n",
      "3: 서초구 양재동에 있는 2017년에 지어진 공간5차 연립다세대은/는 3.0층 29.11m²(임대면적) 기준으로 보증금 27000만원 전세로 거래되었습니다.\n",
      "4: 서초구 우면동에 있는 2013년에 지어진 서초네이처힐6단지 아파트은/는 4.0층 59.99m²(임대면적) 기준으로 보증금 9600만원 임대료는 15만원에 월세로 거래되었습니다.\n",
      "5: 서초구 서초동에 있는 1988년에 지어진 삼풍아파트 아파트은/는 8.0층 79.47m²(임대면적) 기준으로 보증금 45000만원 임대료는 130만원에 월세로 거래되었습니다.\n"
     ]
    }
   ],
   "source": [
    "text = '서초구 양재동'\n",
    "embedding = model.encode(text)\n",
    "wdf['유사도'] = wdf.embedding.map(lambda x: cosine_similarity([embedding], [x]).squeeze())\n",
    "answer = 5\n",
    "sr = [wdf['답변'][i] for i in wdf['유사도'].argsort()[:-answer-1:-1]]\n",
    "for i, response in enumerate(sr, 1): print(f\"{i}: {response}\")"
   ]
  },
  {
   "cell_type": "code",
   "execution_count": null,
   "metadata": {},
   "outputs": [],
   "source": []
  }
 ],
 "metadata": {
  "kernelspec": {
   "display_name": "base",
   "language": "python",
   "name": "python3"
  },
  "language_info": {
   "codemirror_mode": {
    "name": "ipython",
    "version": 3
   },
   "file_extension": ".py",
   "mimetype": "text/x-python",
   "name": "python",
   "nbconvert_exporter": "python",
   "pygments_lexer": "ipython3",
   "version": "3.11.4"
  }
 },
 "nbformat": 4,
 "nbformat_minor": 2
}
