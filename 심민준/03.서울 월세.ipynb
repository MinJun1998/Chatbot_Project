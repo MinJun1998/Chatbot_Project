{
 "cells": [
  {
   "cell_type": "code",
   "execution_count": 15,
   "metadata": {},
   "outputs": [],
   "source": [
    "import time\n",
    "import pandas as pd\n",
    "from selenium import webdriver\n",
    "from selenium.webdriver.common.by import By\n",
    "from bs4 import BeautifulSoup\n",
    "from urllib.parse import quote\n",
    "from tqdm import tqdm"
   ]
  },
  {
   "cell_type": "code",
   "execution_count": 16,
   "metadata": {},
   "outputs": [
    {
     "name": "stderr",
     "output_type": "stream",
     "text": [
      "The chromedriver version (117.0.5938.88) detected in PATH at C:\\Users\\human\\Downloads\\chromedriver.exe might not be compatible with the detected chrome version (118.0.5993.89); currently, chromedriver 118.0.5993.70 is recommended for chrome 118.*, so it is advised to delete the driver in PATH and retry\n"
     ]
    }
   ],
   "source": [
    "url = f'https://kin.naver.com/search/list.naver?query={quote(\"부동산 월세\")}&page=1'\n",
    "driver = webdriver.Chrome()\n",
    "driver.get(url)\n",
    "soup = BeautifulSoup(driver.page_source, 'html.parser')\n",
    "time.sleep(3)"
   ]
  },
  {
   "cell_type": "code",
   "execution_count": 17,
   "metadata": {},
   "outputs": [
    {
     "data": {
      "text/plain": [
       "10"
      ]
     },
     "execution_count": 17,
     "metadata": {},
     "output_type": "execute_result"
    }
   ],
   "source": [
    "lis = soup.select('.basic1 > li')\n",
    "len(lis)"
   ]
  },
  {
   "cell_type": "code",
   "execution_count": 18,
   "metadata": {},
   "outputs": [
    {
     "data": {
      "text/plain": [
       "'https://kin.naver.com/qna/detail.naver?d1id=6&dirId=60202&docId=438009893&qb=67aA64+Z7IKwIOyblOyEuA==&enc=utf8&section=kin&rank=7&search_sort=0&spq=0'"
      ]
     },
     "execution_count": 18,
     "metadata": {},
     "output_type": "execute_result"
    }
   ],
   "source": [
    "li = lis[6]\n",
    "sub_url = li.select_one('a._searchListTitleAnchor')['href']\n",
    "sub_url"
   ]
  },
  {
   "cell_type": "code",
   "execution_count": 19,
   "metadata": {},
   "outputs": [],
   "source": [
    "driver.get(sub_url)\n",
    "time.sleep(2)"
   ]
  },
  {
   "cell_type": "code",
   "execution_count": 20,
   "metadata": {},
   "outputs": [
    {
     "data": {
      "text/plain": [
       "(1, 1)"
      ]
     },
     "execution_count": 20,
     "metadata": {},
     "output_type": "execute_result"
    }
   ],
   "source": [
    "sub_soup = BeautifulSoup(driver.page_source, 'html.parser')\n",
    "questions = sub_soup.select('#content > div.question-content > div > div.c-heading._questionContentsArea.c-heading--default-old > div.c-heading__content')\n",
    "divs = sub_soup.select('#answer_1 > div._endContents.c-heading-answer__content > div._endContentsText.c-heading-answer__content-user > div > div')\n",
    "len(questions),len(divs)"
   ]
  },
  {
   "cell_type": "code",
   "execution_count": 7,
   "metadata": {},
   "outputs": [
    {
     "name": "stdout",
     "output_type": "stream",
     "text": [
      "마음에 드는 원룸이 보증금 5천 월세20 관리비 10입니다최우선변제금액이 3400만원이구요건물시세가 밸류맵으로 확인해봤을때 7억8천8백만원이였구요 등기부등본에 채권최고액이 5억4천으로공동담보로 잡혀있었습니다안전한 집 일까요…..\thu\n"
     ]
    }
   ],
   "source": [
    "answer = ''\n",
    "for p in questions:\n",
    "    text = p.get_text().strip()\n",
    "    if text == '\\u200b' or text == '':\n",
    "        continue\n",
    "    answer += text\n",
    "print(answer + '\\t' + 'hu')"
   ]
  },
  {
   "cell_type": "code",
   "execution_count": 8,
   "metadata": {},
   "outputs": [
    {
     "data": {
      "text/plain": [
       "4"
      ]
     },
     "execution_count": 8,
     "metadata": {},
     "output_type": "execute_result"
    }
   ],
   "source": [
    "div = divs[0]\n",
    "ps = div.select('.se-text-paragraph.se-text-paragraph-align-')\n",
    "len(ps)"
   ]
  },
  {
   "cell_type": "code",
   "execution_count": 9,
   "metadata": {},
   "outputs": [
    {
     "name": "stdout",
     "output_type": "stream",
     "text": [
      "상태로 보았을때 안전하지 않습니다.혹시 모를 위험애 대비해서 다른곳을 찾는걸 추천 드립니다..궁금증이 풀리셨다면 채택 부탁드립니다!\n"
     ]
    }
   ],
   "source": [
    "answer = ''\n",
    "for p in ps:\n",
    "    text = p.get_text().strip()\n",
    "    if text == '\\u200b' or text == '':\n",
    "        continue\n",
    "    answer += text\n",
    "print(answer)"
   ]
  },
  {
   "cell_type": "code",
   "execution_count": 21,
   "metadata": {},
   "outputs": [
    {
     "name": "stderr",
     "output_type": "stream",
     "text": [
      "The chromedriver version (117.0.5938.88) detected in PATH at C:\\Users\\human\\Downloads\\chromedriver.exe might not be compatible with the detected chrome version (118.0.5993.89); currently, chromedriver 118.0.5993.70 is recommended for chrome 118.*, so it is advised to delete the driver in PATH and retry\n"
     ]
    },
    {
     "name": "stdout",
     "output_type": "stream",
     "text": [
      "\n",
      "\n",
      "\n",
      "\n",
      "\n",
      "\n",
      "\n",
      "\n",
      "\n",
      "\n",
      "\n",
      "\n",
      "\n",
      "\n",
      "\n",
      "\n",
      "\n",
      "\n",
      "\n",
      "\n",
      "\n",
      "\n",
      "\n",
      "\n",
      "\n",
      "\n",
      "\n",
      "\n",
      "\n",
      "\n",
      "\n",
      "\n",
      "\n",
      "\n",
      "\n"
     ]
    }
   ],
   "source": [
    "data_list = []\n",
    "driver = webdriver.Chrome()\n",
    "for page in range(1, 36):\n",
    "    url = f'https://kin.naver.com/search/list.naver?query={quote(\"부동산 월세\")}&page={page}'\n",
    "    driver.get(url)\n",
    "    time.sleep(3)\n",
    "    soup = BeautifulSoup(driver.page_source, 'html.parser')\n",
    "    lis = soup.select('.basic1 > li')\n",
    "\n",
    "    for li in lis:\n",
    "        sub_url = li.select_one('a._searchListTitleAnchor')['href']\n",
    "        driver.get(sub_url)\n",
    "        time.sleep(2)\n",
    "\n",
    "        sub_soup = BeautifulSoup(driver.page_source, 'html.parser')\n",
    "        questions = sub_soup.select('#content > div.question-content > div > div.c-heading._questionContentsArea.c-heading--default-old > div.c-heading__content')\n",
    "        divs = sub_soup.select('#answer_1 > div._endContents.c-heading-answer__content > div._endContentsText.c-heading-answer__content-user > div > div')\n",
    "        \n",
    "        answer = ''\n",
    "        for p in questions:\n",
    "            text = p.get_text().strip()\n",
    "            answer += text\n",
    "        answer1 = ''\n",
    "        for p in divs:\n",
    "            text = p.get_text().strip()\n",
    "            answer1 += text\n",
    "        \n",
    "        data_list.append({'구분': '월세', '질문': answer, '답변': answer1})\n",
    "         \n",
    "        driver.back()\n",
    "        time.sleep(2)\n",
    "    print()\n",
    "\n",
    "driver.close()"
   ]
  },
  {
   "cell_type": "code",
   "execution_count": 22,
   "metadata": {},
   "outputs": [
    {
     "data": {
      "text/html": [
       "<div>\n",
       "<style scoped>\n",
       "    .dataframe tbody tr th:only-of-type {\n",
       "        vertical-align: middle;\n",
       "    }\n",
       "\n",
       "    .dataframe tbody tr th {\n",
       "        vertical-align: top;\n",
       "    }\n",
       "\n",
       "    .dataframe thead th {\n",
       "        text-align: right;\n",
       "    }\n",
       "</style>\n",
       "<table border=\"1\" class=\"dataframe\">\n",
       "  <thead>\n",
       "    <tr style=\"text-align: right;\">\n",
       "      <th></th>\n",
       "      <th>구분</th>\n",
       "      <th>질문</th>\n",
       "      <th>답변</th>\n",
       "    </tr>\n",
       "  </thead>\n",
       "  <tbody>\n",
       "    <tr>\n",
       "      <th>0</th>\n",
       "      <td>월세</td>\n",
       "      <td>1.,부동산 월세 계약서를 집주인분과 협의 및 수정하는데법적으로 문제가될까요?2.연...</td>\n",
       "      <td>1.,부동산 월세 계약서를 집주인분과 협의 및 수정하는데법적으로 문제가될까요?&lt;답변...</td>\n",
       "    </tr>\n",
       "    <tr>\n",
       "      <th>1</th>\n",
       "      <td>월세</td>\n",
       "      <td>안녕하세요?신탁 오피스텔 임대차 계약(보증금 5천만원, 월세 30만원)을 하려고 합...</td>\n",
       "      <td>안녕하세요. 서울지방변호사회 소속으로 지식iN 법률상담을 진행하고 있는 정종욱 변호...</td>\n",
       "    </tr>\n",
       "    <tr>\n",
       "      <th>2</th>\n",
       "      <td>월세</td>\n",
       "      <td>오피스텔 주인으로서 월세 다른사람 한테 월세 받고 잇는 상황인데 세입자가 계약후 퇴...</td>\n",
       "      <td>세입자의 과실이면 원상복구의 책임이 있습니다.  ​이런 경우 인테리어 업체에서 견적...</td>\n",
       "    </tr>\n",
       "    <tr>\n",
       "      <th>3</th>\n",
       "      <td>월세</td>\n",
       "      <td>안녕하세요저는 집주인이고, 월세 계약을 체결했습니다.현재 기준, 입주 약 1개월 전...</td>\n",
       "      <td>안녕하세요. 고양 일산 파주 김포, 부동산 월세 계약 파기, 계약금 반환 문의, 율...</td>\n",
       "    </tr>\n",
       "    <tr>\n",
       "      <th>4</th>\n",
       "      <td>월세</td>\n",
       "      <td>전입신고 안한 오피스텔 거주중입니다10월이 2년만기인데 월세 55만원을 내고 거주중...</td>\n",
       "      <td></td>\n",
       "    </tr>\n",
       "    <tr>\n",
       "      <th>...</th>\n",
       "      <td>...</td>\n",
       "      <td>...</td>\n",
       "      <td>...</td>\n",
       "    </tr>\n",
       "    <tr>\n",
       "      <th>345</th>\n",
       "      <td>월세</td>\n",
       "      <td>3월 29일에 부동산 계약서를 작성하고 왔습니다. 계약서상 입주일은 4월 30일이고...</td>\n",
       "      <td>질문에 답변드리겠습니다.1. 상기 질문요지 및 보증금 규모를 고려할 때 최우선 변제...</td>\n",
       "    </tr>\n",
       "    <tr>\n",
       "      <th>346</th>\n",
       "      <td>월세</td>\n",
       "      <td>제가 부동산을 끼고 몇주 전 원룸을 월세로 계약했습니다. 그런데 오늘 일방적으로 집...</td>\n",
       "      <td>오늘 일방적으로 집주인이 계약을 파기 하게 되었는데 이럴경우 제가 부동산에 지불한 ...</td>\n",
       "    </tr>\n",
       "    <tr>\n",
       "      <th>347</th>\n",
       "      <td>월세</td>\n",
       "      <td>제 와이프가 부업을 한다고 다세대 주택 방3칸짜리 집을 보증금 500에 월세40만원...</td>\n",
       "      <td>먼저 월세를 계속 안내게 되서 보증금이 모두 소진되면 끝이 납니다.더 이상 안내도 ...</td>\n",
       "    </tr>\n",
       "    <tr>\n",
       "      <th>348</th>\n",
       "      <td>월세</td>\n",
       "      <td>자취를 하려고 부동산을 통해 월세방을 알아보고 오늘 계약을 했거든요. 근데 제가 자...</td>\n",
       "      <td></td>\n",
       "    </tr>\n",
       "    <tr>\n",
       "      <th>349</th>\n",
       "      <td>월세</td>\n",
       "      <td>올 6월14일이 계약 만료인데요 이사갈집에 사정으로 일주일정도 뒤에 이사를 가야해서...</td>\n",
       "      <td>통상적으로는 부동산 수수료는 집주인이 내는게 맞고요. 종료일 이후 월세는 일자별 계...</td>\n",
       "    </tr>\n",
       "  </tbody>\n",
       "</table>\n",
       "<p>350 rows × 3 columns</p>\n",
       "</div>"
      ],
      "text/plain": [
       "     구분                                                 질문  \\\n",
       "0    월세  1.,부동산 월세 계약서를 집주인분과 협의 및 수정하는데법적으로 문제가될까요?2.연...   \n",
       "1    월세  안녕하세요?신탁 오피스텔 임대차 계약(보증금 5천만원, 월세 30만원)을 하려고 합...   \n",
       "2    월세  오피스텔 주인으로서 월세 다른사람 한테 월세 받고 잇는 상황인데 세입자가 계약후 퇴...   \n",
       "3    월세  안녕하세요저는 집주인이고, 월세 계약을 체결했습니다.현재 기준, 입주 약 1개월 전...   \n",
       "4    월세  전입신고 안한 오피스텔 거주중입니다10월이 2년만기인데 월세 55만원을 내고 거주중...   \n",
       "..   ..                                                ...   \n",
       "345  월세  3월 29일에 부동산 계약서를 작성하고 왔습니다. 계약서상 입주일은 4월 30일이고...   \n",
       "346  월세  제가 부동산을 끼고 몇주 전 원룸을 월세로 계약했습니다. 그런데 오늘 일방적으로 집...   \n",
       "347  월세  제 와이프가 부업을 한다고 다세대 주택 방3칸짜리 집을 보증금 500에 월세40만원...   \n",
       "348  월세  자취를 하려고 부동산을 통해 월세방을 알아보고 오늘 계약을 했거든요. 근데 제가 자...   \n",
       "349  월세  올 6월14일이 계약 만료인데요 이사갈집에 사정으로 일주일정도 뒤에 이사를 가야해서...   \n",
       "\n",
       "                                                    답변  \n",
       "0    1.,부동산 월세 계약서를 집주인분과 협의 및 수정하는데법적으로 문제가될까요?<답변...  \n",
       "1    안녕하세요. 서울지방변호사회 소속으로 지식iN 법률상담을 진행하고 있는 정종욱 변호...  \n",
       "2    세입자의 과실이면 원상복구의 책임이 있습니다.  ​이런 경우 인테리어 업체에서 견적...  \n",
       "3    안녕하세요. 고양 일산 파주 김포, 부동산 월세 계약 파기, 계약금 반환 문의, 율...  \n",
       "4                                                       \n",
       "..                                                 ...  \n",
       "345  질문에 답변드리겠습니다.1. 상기 질문요지 및 보증금 규모를 고려할 때 최우선 변제...  \n",
       "346  오늘 일방적으로 집주인이 계약을 파기 하게 되었는데 이럴경우 제가 부동산에 지불한 ...  \n",
       "347  먼저 월세를 계속 안내게 되서 보증금이 모두 소진되면 끝이 납니다.더 이상 안내도 ...  \n",
       "348                                                     \n",
       "349  통상적으로는 부동산 수수료는 집주인이 내는게 맞고요. 종료일 이후 월세는 일자별 계...  \n",
       "\n",
       "[350 rows x 3 columns]"
      ]
     },
     "execution_count": 22,
     "metadata": {},
     "output_type": "execute_result"
    }
   ],
   "source": [
    "df = pd.DataFrame(data_list)\n",
    "df"
   ]
  },
  {
   "cell_type": "code",
   "execution_count": 23,
   "metadata": {},
   "outputs": [],
   "source": [
    "df.to_csv('data/부동산 월세.csv', index=False, encoding='utf-8')"
   ]
  },
  {
   "cell_type": "code",
   "execution_count": null,
   "metadata": {},
   "outputs": [],
   "source": []
  }
 ],
 "metadata": {
  "kernelspec": {
   "display_name": "base",
   "language": "python",
   "name": "python3"
  },
  "language_info": {
   "codemirror_mode": {
    "name": "ipython",
    "version": 3
   },
   "file_extension": ".py",
   "mimetype": "text/x-python",
   "name": "python",
   "nbconvert_exporter": "python",
   "pygments_lexer": "ipython3",
   "version": "3.11.4"
  }
 },
 "nbformat": 4,
 "nbformat_minor": 2
}
