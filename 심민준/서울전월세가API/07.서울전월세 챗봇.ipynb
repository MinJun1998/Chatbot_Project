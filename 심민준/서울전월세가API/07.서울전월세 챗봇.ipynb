{
 "cells": [
  {
   "cell_type": "code",
   "execution_count": 18,
   "metadata": {},
   "outputs": [],
   "source": [
    "import pandas as pd\n",
    "from sentence_transformers import SentenceTransformer\n",
    "from sklearn.metrics.pairwise import cosine_similarity "
   ]
  },
  {
   "cell_type": "code",
   "execution_count": 19,
   "metadata": {},
   "outputs": [],
   "source": [
    "# \n",
    "model = SentenceTransformer('jhgan/ko-sroberta-multitask')"
   ]
  },
  {
   "cell_type": "markdown",
   "metadata": {},
   "source": [
    "- 챗봇"
   ]
  },
  {
   "cell_type": "code",
   "execution_count": 20,
   "metadata": {},
   "outputs": [
    {
     "data": {
      "text/html": [
       "<div>\n",
       "<style scoped>\n",
       "    .dataframe tbody tr th:only-of-type {\n",
       "        vertical-align: middle;\n",
       "    }\n",
       "\n",
       "    .dataframe tbody tr th {\n",
       "        vertical-align: top;\n",
       "    }\n",
       "\n",
       "    .dataframe thead th {\n",
       "        text-align: right;\n",
       "    }\n",
       "</style>\n",
       "<table border=\"1\" class=\"dataframe\">\n",
       "  <thead>\n",
       "    <tr style=\"text-align: right;\">\n",
       "      <th></th>\n",
       "      <th>구분</th>\n",
       "      <th>질문</th>\n",
       "      <th>답변</th>\n",
       "      <th>embedding</th>\n",
       "    </tr>\n",
       "  </thead>\n",
       "  <tbody>\n",
       "    <tr>\n",
       "      <th>0</th>\n",
       "      <td>용산구 도원동 월세</td>\n",
       "      <td>용산구 도원동에 아파트 월세 보여주세요.</td>\n",
       "      <td>용산구 도원동에 있는 2001년에 지어진 도원동삼성래미안(임대) 아파트은/는 16....</td>\n",
       "      <td>[-0.09031706, -0.493098, 0.6739672, 0.12111038...</td>\n",
       "    </tr>\n",
       "    <tr>\n",
       "      <th>1</th>\n",
       "      <td>송파구 장지동 월세</td>\n",
       "      <td>송파구 장지동에 아파트 월세 보여주세요.</td>\n",
       "      <td>송파구 장지동에 있는 2007년에 지어진 송파파인타운10단지 아파트은/는 2.0층 ...</td>\n",
       "      <td>[-0.20599024, -0.438784, 0.295106, -0.41021588...</td>\n",
       "    </tr>\n",
       "    <tr>\n",
       "      <th>2</th>\n",
       "      <td>은평구 역촌동 월세</td>\n",
       "      <td>은평구 역촌동에 연립다세대 월세 보여주세요.</td>\n",
       "      <td>은평구 역촌동에 있는 2020년에 지어진 헤르미온 연립다세대은/는 13.0층 16....</td>\n",
       "      <td>[0.16635458, -0.68062335, 0.580469, -0.5799484...</td>\n",
       "    </tr>\n",
       "  </tbody>\n",
       "</table>\n",
       "</div>"
      ],
      "text/plain": [
       "           구분                        질문  \\\n",
       "0  용산구 도원동 월세    용산구 도원동에 아파트 월세 보여주세요.   \n",
       "1  송파구 장지동 월세    송파구 장지동에 아파트 월세 보여주세요.   \n",
       "2  은평구 역촌동 월세  은평구 역촌동에 연립다세대 월세 보여주세요.   \n",
       "\n",
       "                                                  답변  \\\n",
       "0  용산구 도원동에 있는 2001년에 지어진 도원동삼성래미안(임대) 아파트은/는 16....   \n",
       "1  송파구 장지동에 있는 2007년에 지어진 송파파인타운10단지 아파트은/는 2.0층 ...   \n",
       "2  은평구 역촌동에 있는 2020년에 지어진 헤르미온 연립다세대은/는 13.0층 16....   \n",
       "\n",
       "                                           embedding  \n",
       "0  [-0.09031706, -0.493098, 0.6739672, 0.12111038...  \n",
       "1  [-0.20599024, -0.438784, 0.295106, -0.41021588...  \n",
       "2  [0.16635458, -0.68062335, 0.580469, -0.5799484...  "
      ]
     },
     "execution_count": 20,
     "metadata": {},
     "output_type": "execute_result"
    }
   ],
   "source": [
    "import json\n",
    "wdf = pd.read_csv('서울전월세_임베딩.csv')\n",
    "wdf.embedding = wdf.embedding.apply(json.loads)\n",
    "wdf.head(3)"
   ]
  },
  {
   "cell_type": "code",
   "execution_count": 21,
   "metadata": {},
   "outputs": [],
   "source": [
    "text = '서울 월세 싼곳 추천해주세요'\n",
    "embedding = model.encode(text)"
   ]
  },
  {
   "cell_type": "code",
   "execution_count": 22,
   "metadata": {},
   "outputs": [
    {
     "data": {
      "text/html": [
       "<div>\n",
       "<style scoped>\n",
       "    .dataframe tbody tr th:only-of-type {\n",
       "        vertical-align: middle;\n",
       "    }\n",
       "\n",
       "    .dataframe tbody tr th {\n",
       "        vertical-align: top;\n",
       "    }\n",
       "\n",
       "    .dataframe thead th {\n",
       "        text-align: right;\n",
       "    }\n",
       "</style>\n",
       "<table border=\"1\" class=\"dataframe\">\n",
       "  <thead>\n",
       "    <tr style=\"text-align: right;\">\n",
       "      <th></th>\n",
       "      <th>구분</th>\n",
       "      <th>질문</th>\n",
       "      <th>답변</th>\n",
       "      <th>embedding</th>\n",
       "      <th>유사도</th>\n",
       "    </tr>\n",
       "  </thead>\n",
       "  <tbody>\n",
       "    <tr>\n",
       "      <th>0</th>\n",
       "      <td>용산구 도원동 월세</td>\n",
       "      <td>용산구 도원동에 아파트 월세 보여주세요.</td>\n",
       "      <td>용산구 도원동에 있는 2001년에 지어진 도원동삼성래미안(임대) 아파트은/는 16....</td>\n",
       "      <td>[-0.09031706, -0.493098, 0.6739672, 0.12111038...</td>\n",
       "      <td>0.529152</td>\n",
       "    </tr>\n",
       "    <tr>\n",
       "      <th>1</th>\n",
       "      <td>송파구 장지동 월세</td>\n",
       "      <td>송파구 장지동에 아파트 월세 보여주세요.</td>\n",
       "      <td>송파구 장지동에 있는 2007년에 지어진 송파파인타운10단지 아파트은/는 2.0층 ...</td>\n",
       "      <td>[-0.20599024, -0.438784, 0.295106, -0.41021588...</td>\n",
       "      <td>0.582133</td>\n",
       "    </tr>\n",
       "    <tr>\n",
       "      <th>2</th>\n",
       "      <td>은평구 역촌동 월세</td>\n",
       "      <td>은평구 역촌동에 연립다세대 월세 보여주세요.</td>\n",
       "      <td>은평구 역촌동에 있는 2020년에 지어진 헤르미온 연립다세대은/는 13.0층 16....</td>\n",
       "      <td>[0.16635458, -0.68062335, 0.580469, -0.5799484...</td>\n",
       "      <td>0.583342</td>\n",
       "    </tr>\n",
       "  </tbody>\n",
       "</table>\n",
       "</div>"
      ],
      "text/plain": [
       "           구분                        질문  \\\n",
       "0  용산구 도원동 월세    용산구 도원동에 아파트 월세 보여주세요.   \n",
       "1  송파구 장지동 월세    송파구 장지동에 아파트 월세 보여주세요.   \n",
       "2  은평구 역촌동 월세  은평구 역촌동에 연립다세대 월세 보여주세요.   \n",
       "\n",
       "                                                  답변  \\\n",
       "0  용산구 도원동에 있는 2001년에 지어진 도원동삼성래미안(임대) 아파트은/는 16....   \n",
       "1  송파구 장지동에 있는 2007년에 지어진 송파파인타운10단지 아파트은/는 2.0층 ...   \n",
       "2  은평구 역촌동에 있는 2020년에 지어진 헤르미온 연립다세대은/는 13.0층 16....   \n",
       "\n",
       "                                           embedding       유사도  \n",
       "0  [-0.09031706, -0.493098, 0.6739672, 0.12111038...  0.529152  \n",
       "1  [-0.20599024, -0.438784, 0.295106, -0.41021588...  0.582133  \n",
       "2  [0.16635458, -0.68062335, 0.580469, -0.5799484...  0.583342  "
      ]
     },
     "execution_count": 22,
     "metadata": {},
     "output_type": "execute_result"
    }
   ],
   "source": [
    "wdf['유사도'] = wdf.embedding.map(lambda x: cosine_similarity([embedding], [x]).squeeze())\n",
    "wdf.head(3)"
   ]
  },
  {
   "cell_type": "code",
   "execution_count": 23,
   "metadata": {},
   "outputs": [
    {
     "data": {
      "text/plain": [
       "975"
      ]
     },
     "execution_count": 23,
     "metadata": {},
     "output_type": "execute_result"
    }
   ],
   "source": [
    "wdf.유사도.idxmax()"
   ]
  },
  {
   "cell_type": "code",
   "execution_count": 24,
   "metadata": {},
   "outputs": [
    {
     "data": {
      "text/html": [
       "<div>\n",
       "<style scoped>\n",
       "    .dataframe tbody tr th:only-of-type {\n",
       "        vertical-align: middle;\n",
       "    }\n",
       "\n",
       "    .dataframe tbody tr th {\n",
       "        vertical-align: top;\n",
       "    }\n",
       "\n",
       "    .dataframe thead th {\n",
       "        text-align: right;\n",
       "    }\n",
       "</style>\n",
       "<table border=\"1\" class=\"dataframe\">\n",
       "  <thead>\n",
       "    <tr style=\"text-align: right;\">\n",
       "      <th></th>\n",
       "      <th>구분</th>\n",
       "      <th>질문</th>\n",
       "      <th>답변</th>\n",
       "      <th>embedding</th>\n",
       "      <th>유사도</th>\n",
       "    </tr>\n",
       "  </thead>\n",
       "  <tbody>\n",
       "    <tr>\n",
       "      <th>0</th>\n",
       "      <td>용산구 도원동 월세</td>\n",
       "      <td>용산구 도원동에 아파트 월세 보여주세요.</td>\n",
       "      <td>용산구 도원동에 있는 2001년에 지어진 도원동삼성래미안(임대) 아파트은/는 16....</td>\n",
       "      <td>[-0.09031706, -0.493098, 0.6739672, 0.12111038...</td>\n",
       "      <td>0.529152</td>\n",
       "    </tr>\n",
       "    <tr>\n",
       "      <th>0</th>\n",
       "      <td>용산구 도원동 월세</td>\n",
       "      <td>용산구 도원동에 아파트 월세 보여주세요.</td>\n",
       "      <td>용산구 도원동에 있는 2001년에 지어진 도원동삼성래미안(임대) 아파트은/는 16....</td>\n",
       "      <td>[-0.09031706, -0.493098, 0.6739672, 0.12111038...</td>\n",
       "      <td>0.529152</td>\n",
       "    </tr>\n",
       "    <tr>\n",
       "      <th>0</th>\n",
       "      <td>용산구 도원동 월세</td>\n",
       "      <td>용산구 도원동에 아파트 월세 보여주세요.</td>\n",
       "      <td>용산구 도원동에 있는 2001년에 지어진 도원동삼성래미안(임대) 아파트은/는 16....</td>\n",
       "      <td>[-0.09031706, -0.493098, 0.6739672, 0.12111038...</td>\n",
       "      <td>0.529152</td>\n",
       "    </tr>\n",
       "    <tr>\n",
       "      <th>0</th>\n",
       "      <td>용산구 도원동 월세</td>\n",
       "      <td>용산구 도원동에 아파트 월세 보여주세요.</td>\n",
       "      <td>용산구 도원동에 있는 2001년에 지어진 도원동삼성래미안(임대) 아파트은/는 16....</td>\n",
       "      <td>[-0.09031706, -0.493098, 0.6739672, 0.12111038...</td>\n",
       "      <td>0.529152</td>\n",
       "    </tr>\n",
       "    <tr>\n",
       "      <th>0</th>\n",
       "      <td>용산구 도원동 월세</td>\n",
       "      <td>용산구 도원동에 아파트 월세 보여주세요.</td>\n",
       "      <td>용산구 도원동에 있는 2001년에 지어진 도원동삼성래미안(임대) 아파트은/는 16....</td>\n",
       "      <td>[-0.09031706, -0.493098, 0.6739672, 0.12111038...</td>\n",
       "      <td>0.529152</td>\n",
       "    </tr>\n",
       "  </tbody>\n",
       "</table>\n",
       "</div>"
      ],
      "text/plain": [
       "           구분                      질문  \\\n",
       "0  용산구 도원동 월세  용산구 도원동에 아파트 월세 보여주세요.   \n",
       "0  용산구 도원동 월세  용산구 도원동에 아파트 월세 보여주세요.   \n",
       "0  용산구 도원동 월세  용산구 도원동에 아파트 월세 보여주세요.   \n",
       "0  용산구 도원동 월세  용산구 도원동에 아파트 월세 보여주세요.   \n",
       "0  용산구 도원동 월세  용산구 도원동에 아파트 월세 보여주세요.   \n",
       "\n",
       "                                                  답변  \\\n",
       "0  용산구 도원동에 있는 2001년에 지어진 도원동삼성래미안(임대) 아파트은/는 16....   \n",
       "0  용산구 도원동에 있는 2001년에 지어진 도원동삼성래미안(임대) 아파트은/는 16....   \n",
       "0  용산구 도원동에 있는 2001년에 지어진 도원동삼성래미안(임대) 아파트은/는 16....   \n",
       "0  용산구 도원동에 있는 2001년에 지어진 도원동삼성래미안(임대) 아파트은/는 16....   \n",
       "0  용산구 도원동에 있는 2001년에 지어진 도원동삼성래미안(임대) 아파트은/는 16....   \n",
       "\n",
       "                                           embedding       유사도  \n",
       "0  [-0.09031706, -0.493098, 0.6739672, 0.12111038...  0.529152  \n",
       "0  [-0.09031706, -0.493098, 0.6739672, 0.12111038...  0.529152  \n",
       "0  [-0.09031706, -0.493098, 0.6739672, 0.12111038...  0.529152  \n",
       "0  [-0.09031706, -0.493098, 0.6739672, 0.12111038...  0.529152  \n",
       "0  [-0.09031706, -0.493098, 0.6739672, 0.12111038...  0.529152  "
      ]
     },
     "execution_count": 24,
     "metadata": {},
     "output_type": "execute_result"
    }
   ],
   "source": [
    "wdf.iloc[wdf.유사도.nlargest(5)]"
   ]
  },
  {
   "cell_type": "code",
   "execution_count": 25,
   "metadata": {},
   "outputs": [],
   "source": [
    "answer = 5\n",
    "sr = [wdf['답변'][i] for i in wdf['유사도'].argsort()[:-answer-1:-1]]"
   ]
  },
  {
   "cell_type": "code",
   "execution_count": 26,
   "metadata": {},
   "outputs": [
    {
     "name": "stdout",
     "output_type": "stream",
     "text": [
      "1: 성북구 하월곡동에 있는 2003년에 지어진 월곡두산위브 아파트은/는 4.0층 84.65m²(임대면적) 기준으로 보증금 10000만원 임대료는 50만원에 월세로 거래되었습니다.\n",
      "2: 성북구 하월곡동에 있는 2010년에 지어진 꿈의숲푸르지오 아파트은/는 5.0층 84.73m²(임대면적) 기준으로 보증금 20000만원 임대료는 100만원에 월세로 거래되었습니다.\n",
      "3: 성북구 하월곡동에 있는 2003년에 지어진 월곡두산위브 아파트은/는 5.0층 84.77m²(임대면적) 기준으로 보증금 11000만원 임대료는 23만원에 월세로 거래되었습니다.\n",
      "4: 성북구 삼선동4가에 있는 1999년에 지어진 코오롱 아파트은/는 12.0층 114.84m²(임대면적) 기준으로 보증금 50000만원 임대료는 60만원에 월세로 거래되었습니다.\n",
      "5: 성북구 삼선동4가에 있는 1999년에 지어진 코오롱 아파트은/는 12.0층 114.84m²(임대면적) 기준으로 보증금 50000만원 임대료는 60만원에 월세로 거래되었습니다.\n"
     ]
    }
   ],
   "source": [
    "for i, response in enumerate(sr, 1):\n",
    "    print(f\"{i}: {response}\")"
   ]
  },
  {
   "cell_type": "code",
   "execution_count": 27,
   "metadata": {},
   "outputs": [
    {
     "data": {
      "text/plain": [
       "'성북구 하월곡동에 있는 2003년에 지어진 월곡두산위브 아파트은/는 4.0층 84.65m²(임대면적) 기준으로 보증금 10000만원 임대료는 50만원에 월세로 거래되었습니다.'"
      ]
     },
     "execution_count": 27,
     "metadata": {},
     "output_type": "execute_result"
    }
   ],
   "source": [
    "wdf.답변[wdf.유사도.idxmax()]"
   ]
  },
  {
   "cell_type": "code",
   "execution_count": 28,
   "metadata": {},
   "outputs": [
    {
     "data": {
      "text/plain": [
       "'서초구 반포동에 있는 2016년에 지어진 아크로리버파크 아파트은/는 19.0층 84.95m²(임대면적) 기준으로 보증금 180000만원 전세로 거래되었습니다.'"
      ]
     },
     "execution_count": 28,
     "metadata": {},
     "output_type": "execute_result"
    }
   ],
   "source": [
    "text = '반포동에 전세 아파트 보증금이 궁금해'\n",
    "embedding = model.encode(text)\n",
    "wdf['유사도'] = wdf.embedding.map(lambda x: cosine_similarity([embedding], [x]).squeeze())\n",
    "answer = wdf.답변[wdf.유사도.idxmax()]\n",
    "answer"
   ]
  },
  {
   "cell_type": "code",
   "execution_count": null,
   "metadata": {},
   "outputs": [],
   "source": []
  }
 ],
 "metadata": {
  "kernelspec": {
   "display_name": "base",
   "language": "python",
   "name": "python3"
  },
  "language_info": {
   "codemirror_mode": {
    "name": "ipython",
    "version": 3
   },
   "file_extension": ".py",
   "mimetype": "text/x-python",
   "name": "python",
   "nbconvert_exporter": "python",
   "pygments_lexer": "ipython3",
   "version": "3.11.4"
  }
 },
 "nbformat": 4,
 "nbformat_minor": 2
}
