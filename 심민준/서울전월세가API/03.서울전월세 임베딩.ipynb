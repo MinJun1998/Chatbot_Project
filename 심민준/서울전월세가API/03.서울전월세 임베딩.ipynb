{
 "cells": [
  {
   "cell_type": "code",
   "execution_count": 1,
   "metadata": {},
   "outputs": [],
   "source": [
    "import pandas as pd\n",
    "from sentence_transformers import SentenceTransformer\n",
    "from sklearn.metrics.pairwise import cosine_similarity "
   ]
  },
  {
   "cell_type": "code",
   "execution_count": 2,
   "metadata": {},
   "outputs": [],
   "source": [
    "# 한글 문장 임베딩에 활용하기 위해 만들어진 한글 사전학습 모델\n",
    "model = SentenceTransformer('jhgan/ko-sroberta-multitask')"
   ]
  },
  {
   "cell_type": "code",
   "execution_count": 3,
   "metadata": {},
   "outputs": [
    {
     "data": {
      "text/html": [
       "<div>\n",
       "<style scoped>\n",
       "    .dataframe tbody tr th:only-of-type {\n",
       "        vertical-align: middle;\n",
       "    }\n",
       "\n",
       "    .dataframe tbody tr th {\n",
       "        vertical-align: top;\n",
       "    }\n",
       "\n",
       "    .dataframe thead th {\n",
       "        text-align: right;\n",
       "    }\n",
       "</style>\n",
       "<table border=\"1\" class=\"dataframe\">\n",
       "  <thead>\n",
       "    <tr style=\"text-align: right;\">\n",
       "      <th></th>\n",
       "      <th>구분</th>\n",
       "      <th>질문</th>\n",
       "      <th>답변</th>\n",
       "    </tr>\n",
       "  </thead>\n",
       "  <tbody>\n",
       "    <tr>\n",
       "      <th>0</th>\n",
       "      <td>용산구 도원동 월세</td>\n",
       "      <td>용산구 도원동에 아파트 월세 보여주세요.</td>\n",
       "      <td>용산구 도원동에 있는 2001년에 지어진 도원동삼성래미안(임대) 아파트은/는 16....</td>\n",
       "    </tr>\n",
       "    <tr>\n",
       "      <th>1</th>\n",
       "      <td>송파구 장지동 월세</td>\n",
       "      <td>송파구 장지동에 아파트 월세 보여주세요.</td>\n",
       "      <td>송파구 장지동에 있는 2007년에 지어진 송파파인타운10단지 아파트은/는 2.0층 ...</td>\n",
       "    </tr>\n",
       "    <tr>\n",
       "      <th>2</th>\n",
       "      <td>은평구 역촌동 월세</td>\n",
       "      <td>은평구 역촌동에 연립다세대 월세 보여주세요.</td>\n",
       "      <td>은평구 역촌동에 있는 2020년에 지어진 헤르미온 연립다세대은/는 13.0층 16....</td>\n",
       "    </tr>\n",
       "    <tr>\n",
       "      <th>3</th>\n",
       "      <td>강동구 강일동 월세</td>\n",
       "      <td>강동구 강일동에 아파트 월세 보여주세요.</td>\n",
       "      <td>강동구 강일동에 있는 2009년에 지어진 강일리버파크3단지 아파트은/는 12.0층 ...</td>\n",
       "    </tr>\n",
       "    <tr>\n",
       "      <th>4</th>\n",
       "      <td>구로구 천왕동 월세</td>\n",
       "      <td>구로구 천왕동에 아파트 월세 보여주세요.</td>\n",
       "      <td>구로구 천왕동에 있는 2017년에 지어진 천왕이펜하우스7단지 아파트은/는 7.0층 ...</td>\n",
       "    </tr>\n",
       "  </tbody>\n",
       "</table>\n",
       "</div>"
      ],
      "text/plain": [
       "           구분                        질문  \\\n",
       "0  용산구 도원동 월세    용산구 도원동에 아파트 월세 보여주세요.   \n",
       "1  송파구 장지동 월세    송파구 장지동에 아파트 월세 보여주세요.   \n",
       "2  은평구 역촌동 월세  은평구 역촌동에 연립다세대 월세 보여주세요.   \n",
       "3  강동구 강일동 월세    강동구 강일동에 아파트 월세 보여주세요.   \n",
       "4  구로구 천왕동 월세    구로구 천왕동에 아파트 월세 보여주세요.   \n",
       "\n",
       "                                                  답변  \n",
       "0  용산구 도원동에 있는 2001년에 지어진 도원동삼성래미안(임대) 아파트은/는 16....  \n",
       "1  송파구 장지동에 있는 2007년에 지어진 송파파인타운10단지 아파트은/는 2.0층 ...  \n",
       "2  은평구 역촌동에 있는 2020년에 지어진 헤르미온 연립다세대은/는 13.0층 16....  \n",
       "3  강동구 강일동에 있는 2009년에 지어진 강일리버파크3단지 아파트은/는 12.0층 ...  \n",
       "4  구로구 천왕동에 있는 2017년에 지어진 천왕이펜하우스7단지 아파트은/는 7.0층 ...  "
      ]
     },
     "execution_count": 3,
     "metadata": {},
     "output_type": "execute_result"
    }
   ],
   "source": [
    "# csv파일 데이터프레임으로 불러오기\n",
    "df = pd.read_csv('data/서울전월세_data.csv')\n",
    "df.head()"
   ]
  },
  {
   "cell_type": "markdown",
   "metadata": {},
   "source": [
    "- 인코딩 후 데이터 셋 저장"
   ]
  },
  {
   "cell_type": "code",
   "execution_count": 4,
   "metadata": {},
   "outputs": [
    {
     "data": {
      "text/plain": [
       "array([[-0.09031671, -0.49309778,  0.6739676 , ..., -0.46691802,\n",
       "         0.02408064,  0.27559984],\n",
       "       [-0.2059905 , -0.43878374,  0.2951059 , ..., -0.10445013,\n",
       "        -0.01905461, -0.14625923],\n",
       "       [ 0.16635455, -0.6806232 ,  0.58046913, ..., -0.2931628 ,\n",
       "        -0.12906599, -0.50989664],\n",
       "       ...,\n",
       "       [-0.7524996 ,  0.08231832,  0.03563081, ..., -0.48470238,\n",
       "         0.02480537, -0.25666988],\n",
       "       [-0.7470796 , -0.17434736, -0.13386355, ..., -0.5309301 ,\n",
       "         0.305033  , -0.04879554],\n",
       "       [-0.5444808 , -0.12942387,  0.10116836, ..., -0.76947415,\n",
       "         0.44513133, -0.24928197]], dtype=float32)"
      ]
     },
     "execution_count": 4,
     "metadata": {},
     "output_type": "execute_result"
    }
   ],
   "source": [
    "# 질문내용 인코딩\n",
    "model.encode(df.질문)"
   ]
  },
  {
   "cell_type": "code",
   "execution_count": 5,
   "metadata": {},
   "outputs": [
    {
     "data": {
      "text/plain": [
       "(9685, 4)"
      ]
     },
     "execution_count": 5,
     "metadata": {},
     "output_type": "execute_result"
    }
   ],
   "source": [
    "# 컬럼 추가\n",
    "df['embedding'] = pd.Series([[]] * len(df))     #  더미데이터\n",
    "df.shape"
   ]
  },
  {
   "cell_type": "code",
   "execution_count": 6,
   "metadata": {},
   "outputs": [
    {
     "data": {
      "text/html": [
       "<div>\n",
       "<style scoped>\n",
       "    .dataframe tbody tr th:only-of-type {\n",
       "        vertical-align: middle;\n",
       "    }\n",
       "\n",
       "    .dataframe tbody tr th {\n",
       "        vertical-align: top;\n",
       "    }\n",
       "\n",
       "    .dataframe thead th {\n",
       "        text-align: right;\n",
       "    }\n",
       "</style>\n",
       "<table border=\"1\" class=\"dataframe\">\n",
       "  <thead>\n",
       "    <tr style=\"text-align: right;\">\n",
       "      <th></th>\n",
       "      <th>구분</th>\n",
       "      <th>질문</th>\n",
       "      <th>답변</th>\n",
       "      <th>embedding</th>\n",
       "    </tr>\n",
       "  </thead>\n",
       "  <tbody>\n",
       "    <tr>\n",
       "      <th>0</th>\n",
       "      <td>용산구 도원동 월세</td>\n",
       "      <td>용산구 도원동에 아파트 월세 보여주세요.</td>\n",
       "      <td>용산구 도원동에 있는 2001년에 지어진 도원동삼성래미안(임대) 아파트은/는 16....</td>\n",
       "      <td>[-0.09031706, -0.493098, 0.6739672, 0.12111038...</td>\n",
       "    </tr>\n",
       "    <tr>\n",
       "      <th>1</th>\n",
       "      <td>송파구 장지동 월세</td>\n",
       "      <td>송파구 장지동에 아파트 월세 보여주세요.</td>\n",
       "      <td>송파구 장지동에 있는 2007년에 지어진 송파파인타운10단지 아파트은/는 2.0층 ...</td>\n",
       "      <td>[-0.20599024, -0.438784, 0.295106, -0.41021588...</td>\n",
       "    </tr>\n",
       "    <tr>\n",
       "      <th>2</th>\n",
       "      <td>은평구 역촌동 월세</td>\n",
       "      <td>은평구 역촌동에 연립다세대 월세 보여주세요.</td>\n",
       "      <td>은평구 역촌동에 있는 2020년에 지어진 헤르미온 연립다세대은/는 13.0층 16....</td>\n",
       "      <td>[0.16635458, -0.68062335, 0.580469, -0.5799484...</td>\n",
       "    </tr>\n",
       "  </tbody>\n",
       "</table>\n",
       "</div>"
      ],
      "text/plain": [
       "           구분                        질문  \\\n",
       "0  용산구 도원동 월세    용산구 도원동에 아파트 월세 보여주세요.   \n",
       "1  송파구 장지동 월세    송파구 장지동에 아파트 월세 보여주세요.   \n",
       "2  은평구 역촌동 월세  은평구 역촌동에 연립다세대 월세 보여주세요.   \n",
       "\n",
       "                                                  답변  \\\n",
       "0  용산구 도원동에 있는 2001년에 지어진 도원동삼성래미안(임대) 아파트은/는 16....   \n",
       "1  송파구 장지동에 있는 2007년에 지어진 송파파인타운10단지 아파트은/는 2.0층 ...   \n",
       "2  은평구 역촌동에 있는 2020년에 지어진 헤르미온 연립다세대은/는 13.0층 16....   \n",
       "\n",
       "                                           embedding  \n",
       "0  [-0.09031706, -0.493098, 0.6739672, 0.12111038...  \n",
       "1  [-0.20599024, -0.438784, 0.295106, -0.41021588...  \n",
       "2  [0.16635458, -0.68062335, 0.580469, -0.5799484...  "
      ]
     },
     "execution_count": 6,
     "metadata": {},
     "output_type": "execute_result"
    }
   ],
   "source": [
    "# 인코딩한 내용 컬럼에 등록\n",
    "df.embedding = df.질문.map(lambda x: list(model.encode(x)))\n",
    "df.head(3)"
   ]
  },
  {
   "cell_type": "code",
   "execution_count": 7,
   "metadata": {},
   "outputs": [],
   "source": [
    "# 파일저장\n",
    "df.to_csv('data/서울전월세_임베딩.csv', index=False)"
   ]
  },
  {
   "cell_type": "code",
   "execution_count": null,
   "metadata": {},
   "outputs": [],
   "source": []
  }
 ],
 "metadata": {
  "kernelspec": {
   "display_name": "base",
   "language": "python",
   "name": "python3"
  },
  "language_info": {
   "codemirror_mode": {
    "name": "ipython",
    "version": 3
   },
   "file_extension": ".py",
   "mimetype": "text/x-python",
   "name": "python",
   "nbconvert_exporter": "python",
   "pygments_lexer": "ipython3",
   "version": "3.11.4"
  }
 },
 "nbformat": 4,
 "nbformat_minor": 2
}
