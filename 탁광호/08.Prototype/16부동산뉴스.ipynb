{
 "cells": [
  {
   "cell_type": "markdown",
   "metadata": {},
   "source": [
    "## Youtubu Ranking"
   ]
  },
  {
   "cell_type": "code",
   "execution_count": 22,
   "metadata": {},
   "outputs": [],
   "source": [
    "import requests, time\n",
    "import pandas as pd\n",
    "from bs4 import BeautifulSoup\n",
    "from selenium import webdriver"
   ]
  },
  {
   "cell_type": "markdown",
   "metadata": {},
   "source": [
    "- Step 1, 2"
   ]
  },
  {
   "cell_type": "code",
   "execution_count": 23,
   "metadata": {},
   "outputs": [],
   "source": [
    "url1 = 'https://land.naver.com/news/headline.naver'\n",
    "res = requests.get(url1)\n",
    "soup = BeautifulSoup(res.text, 'html.parser')"
   ]
  },
  {
   "cell_type": "code",
   "execution_count": 24,
   "metadata": {},
   "outputs": [],
   "source": [
    "driver = webdriver.Chrome()\n",
    "driver.get(url1)"
   ]
  },
  {
   "cell_type": "code",
   "execution_count": 25,
   "metadata": {},
   "outputs": [],
   "source": [
    "soup = BeautifulSoup(driver.page_source, 'html.parser')\n",
    "\n"
   ]
  },
  {
   "cell_type": "code",
   "execution_count": 26,
   "metadata": {},
   "outputs": [
    {
     "data": {
      "text/plain": [
       "20"
      ]
     },
     "execution_count": 26,
     "metadata": {},
     "output_type": "execute_result"
    }
   ],
   "source": [
    "news = soup.select('.land_news_list>li')\n",
    "len(news)"
   ]
  },
  {
   "cell_type": "code",
   "execution_count": 27,
   "metadata": {},
   "outputs": [],
   "source": [
    "news_list = news[0]"
   ]
  },
  {
   "cell_type": "code",
   "execution_count": 28,
   "metadata": {},
   "outputs": [
    {
     "data": {
      "text/plain": [
       "' 8300가구 이삿짐 쌌다…전세 매물 자취 감춘 이곳 [부동산360][르포]'"
      ]
     },
     "execution_count": 28,
     "metadata": {},
     "output_type": "execute_result"
    }
   ],
   "source": [
    "navernewstitle = news_list.select_one('.title').get_text()\n",
    "navernewstitle"
   ]
  },
  {
   "cell_type": "code",
   "execution_count": 29,
   "metadata": {},
   "outputs": [
    {
     "data": {
      "text/plain": [
       "'헤럴드경제'"
      ]
     },
     "execution_count": 29,
     "metadata": {},
     "output_type": "execute_result"
    }
   ],
   "source": [
    "publisher = news_list.select_one('.description.source').get_text()\n",
    "publisher"
   ]
  },
  {
   "cell_type": "code",
   "execution_count": 30,
   "metadata": {},
   "outputs": [
    {
     "data": {
      "text/plain": [
       "'https://n.news.naver.com/article/016/0002218786'"
      ]
     },
     "execution_count": 30,
     "metadata": {},
     "output_type": "execute_result"
    }
   ],
   "source": [
    "tag = news_list.select_one('a')['href']\n",
    "tag"
   ]
  },
  {
   "cell_type": "code",
   "execution_count": 32,
   "metadata": {},
   "outputs": [
    {
     "name": "stdout",
     "output_type": "stream",
     "text": [
      "뉴스 1:\n",
      "제목: 8300가구 이삿짐 쌌다…전세 매물 자취 감춘 이곳 [부동산360][르포]\n",
      "출판사: 헤럴드경제\n",
      "링크: https://n.news.naver.com/article/016/0002218786\n",
      "\n",
      "뉴스 2:\n",
      "제목: ‘실거주 의무 폐지’ 입법 하세월… 4만여가구 피마른다\n",
      "출판사: 조선일보\n",
      "링크: https://n.news.naver.com/article/023/0003796790\n",
      "\n",
      "뉴스 3:\n",
      "제목: ‘서울 편입론’에 김포 들썩? “총선용일 뿐…기대감 글쎄”[르포]\n",
      "출판사: 아시아경제\n",
      "링크: https://n.news.naver.com/article/277/0005334906\n",
      "\n",
      "뉴스 4:\n",
      "제목: “수억 대출금 이자 내다 결국 망했어요” 집 경매 눈덩이처럼 쌓인다 [부동산360]\n",
      "출판사: 헤럴드경제\n",
      "링크: https://n.news.naver.com/article/016/0002218497\n",
      "\n",
      "뉴스 5:\n",
      "제목: 재작년 7억 하던 아파트, 올해는 5억 ‘뚝’…서울도 “집 안팔려요”\n",
      "출판사: 매일경제\n",
      "링크: https://n.news.naver.com/article/009/0005208532\n",
      "\n"
     ]
    }
   ],
   "source": [
    "url = 'https://land.naver.com/news/headline.naver'\n",
    "driver = webdriver.Chrome()\n",
    "driver.get(url)\n",
    "\n",
    "soup = BeautifulSoup(driver.page_source, 'html.parser')\n",
    "news_items = soup.select('.land_news_list > li')[:5]\n",
    "\n",
    "for i, news_item in enumerate(news_items, start=1):\n",
    "    title = news_item.select_one('.title').get_text(strip=True)\n",
    "    publisher = news_item.select_one('.description.source').get_text(strip=True)\n",
    "    link = news_item.select_one('a')['href']\n",
    "    \n",
    "    print(f\"뉴스 {i}:\")\n",
    "    print(\"제목:\", title)\n",
    "    print(\"출판사:\", publisher)\n",
    "    print(\"링크:\", link)\n",
    "    print()\n",
    "\n"
   ]
  },
  {
   "cell_type": "code",
   "execution_count": null,
   "metadata": {},
   "outputs": [],
   "source": []
  }
 ],
 "metadata": {
  "kernelspec": {
   "display_name": "base",
   "language": "python",
   "name": "python3"
  },
  "language_info": {
   "codemirror_mode": {
    "name": "ipython",
    "version": 3
   },
   "file_extension": ".py",
   "mimetype": "text/x-python",
   "name": "python",
   "nbconvert_exporter": "python",
   "pygments_lexer": "ipython3",
   "version": "3.11.4"
  },
  "orig_nbformat": 4
 },
 "nbformat": 4,
 "nbformat_minor": 2
}
