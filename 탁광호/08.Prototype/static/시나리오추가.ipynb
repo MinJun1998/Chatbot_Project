{
 "cells": [
  {
   "cell_type": "code",
   "execution_count": 1,
   "metadata": {},
   "outputs": [],
   "source": [
    "import pandas as pd"
   ]
  },
  {
   "cell_type": "code",
   "execution_count": 2,
   "metadata": {},
   "outputs": [],
   "source": [
    "df = pd.read_csv('data/1030_0355data.csv')"
   ]
  },
  {
   "cell_type": "code",
   "execution_count": 6,
   "metadata": {},
   "outputs": [],
   "source": [
    "data = {\n",
    "    '구분': ['정책'],\n",
    "    '유저': ['서울시 정책에는 무엇이 있나요 ?'],\n",
    "    '챗봇': ['서울시에는 시민들의 주거 안정과 삶의 질 향상을 위해 여러 가지 주거 정책을 시행하고 있습니다. 먼저, 주거비 부담을 줄이기 위해 임차보증금 대출 지원 프로그램을 제공합니다. 또한, 에너지 효율을 향상시키고 온실가스를 감축하기 위해 주택 개선 융자 지원을 시행합니다. 노후 주택에 대한 집수리 지원을 통해 안전한 주거 환경을 조성하며, 취약 거주 시설의 개선을 위해 보조금을 지원합니다. 주택 수리에 필요한 기술을 배울 수 있는 교육 프로그램도 제공되며, 석면 피해 예방을 위한 슬레이트 지붕 철거 지원도 있습니다. 저렴한 임대료의 사회주택을 공급하여 서민의 주거비 부담을 경감시키고, 다양한 공동체 주거 공간을 제공하여 지역사회의 활력을 높입니다. 저소득층 및 청년층을 위한 공공임대주택과 보조금 지원으로 주거 안정을 도모하고, 주거급여 수급자에 대한 지원으로 생활 안정을 추구합니다. 이와 같이 서울시는 다양한 주거 정책을 통해 시민들이 더 나은 생활을 영위할 수 있도록 적극적으로 노력하고 있습니다.']\n",
    "}\n",
    "\n",
    "df1 = pd.DataFrame(data)"
   ]
  },
  {
   "cell_type": "code",
   "execution_count": 7,
   "metadata": {},
   "outputs": [
    {
     "data": {
      "text/html": [
       "<div>\n",
       "<style scoped>\n",
       "    .dataframe tbody tr th:only-of-type {\n",
       "        vertical-align: middle;\n",
       "    }\n",
       "\n",
       "    .dataframe tbody tr th {\n",
       "        vertical-align: top;\n",
       "    }\n",
       "\n",
       "    .dataframe thead th {\n",
       "        text-align: right;\n",
       "    }\n",
       "</style>\n",
       "<table border=\"1\" class=\"dataframe\">\n",
       "  <thead>\n",
       "    <tr style=\"text-align: right;\">\n",
       "      <th></th>\n",
       "      <th>구분</th>\n",
       "      <th>유저</th>\n",
       "      <th>챗봇</th>\n",
       "    </tr>\n",
       "  </thead>\n",
       "  <tbody>\n",
       "    <tr>\n",
       "      <th>0</th>\n",
       "      <td>정책</td>\n",
       "      <td>서울시 정책에는 무엇이 있나요 ?</td>\n",
       "      <td>서울시에는 시민들의 주거 안정과 삶의 질 향상을 위해 여러 가지 주거 정책을 시행하...</td>\n",
       "    </tr>\n",
       "  </tbody>\n",
       "</table>\n",
       "</div>"
      ],
      "text/plain": [
       "   구분                  유저                                                 챗봇\n",
       "0  정책  서울시 정책에는 무엇이 있나요 ?  서울시에는 시민들의 주거 안정과 삶의 질 향상을 위해 여러 가지 주거 정책을 시행하..."
      ]
     },
     "execution_count": 7,
     "metadata": {},
     "output_type": "execute_result"
    }
   ],
   "source": [
    "df1.head()"
   ]
  },
  {
   "cell_type": "code",
   "execution_count": 8,
   "metadata": {},
   "outputs": [],
   "source": [
    "\n",
    "from sentence_transformers import SentenceTransformer\n",
    "from sklearn.metrics.pairwise import cosine_similarity\n",
    "model = SentenceTransformer('jhgan/ko-sroberta-multitask')\n",
    "import numpy as np\n",
    "df1['embedding'] = pd.Series([[]] * len(df))     # dummy"
   ]
  },
  {
   "cell_type": "code",
   "execution_count": 10,
   "metadata": {},
   "outputs": [],
   "source": [
    "df1.embedding = df1.유저.map(lambda x: list(model.encode(x)))"
   ]
  },
  {
   "cell_type": "code",
   "execution_count": 11,
   "metadata": {},
   "outputs": [
    {
     "data": {
      "text/html": [
       "<div>\n",
       "<style scoped>\n",
       "    .dataframe tbody tr th:only-of-type {\n",
       "        vertical-align: middle;\n",
       "    }\n",
       "\n",
       "    .dataframe tbody tr th {\n",
       "        vertical-align: top;\n",
       "    }\n",
       "\n",
       "    .dataframe thead th {\n",
       "        text-align: right;\n",
       "    }\n",
       "</style>\n",
       "<table border=\"1\" class=\"dataframe\">\n",
       "  <thead>\n",
       "    <tr style=\"text-align: right;\">\n",
       "      <th></th>\n",
       "      <th>구분</th>\n",
       "      <th>유저</th>\n",
       "      <th>챗봇</th>\n",
       "      <th>embedding</th>\n",
       "    </tr>\n",
       "  </thead>\n",
       "  <tbody>\n",
       "    <tr>\n",
       "      <th>0</th>\n",
       "      <td>정책</td>\n",
       "      <td>서울시 정책에는 무엇이 있나요 ?</td>\n",
       "      <td>서울시에는 시민들의 주거 안정과 삶의 질 향상을 위해 여러 가지 주거 정책을 시행하...</td>\n",
       "      <td>[0.01645965, 0.24636532, 0.17078638, -0.249647...</td>\n",
       "    </tr>\n",
       "  </tbody>\n",
       "</table>\n",
       "</div>"
      ],
      "text/plain": [
       "   구분                  유저                                                 챗봇  \\\n",
       "0  정책  서울시 정책에는 무엇이 있나요 ?  서울시에는 시민들의 주거 안정과 삶의 질 향상을 위해 여러 가지 주거 정책을 시행하...   \n",
       "\n",
       "                                           embedding  \n",
       "0  [0.01645965, 0.24636532, 0.17078638, -0.249647...  "
      ]
     },
     "execution_count": 11,
     "metadata": {},
     "output_type": "execute_result"
    }
   ],
   "source": [
    "df1.head()"
   ]
  },
  {
   "cell_type": "code",
   "execution_count": 12,
   "metadata": {},
   "outputs": [],
   "source": [
    "dfs1 = pd.concat([df,df1]) "
   ]
  },
  {
   "cell_type": "code",
   "execution_count": 13,
   "metadata": {},
   "outputs": [],
   "source": [
    "dfs1.to_csv('data/1030_0355data.csv', index=False)"
   ]
  },
  {
   "cell_type": "code",
   "execution_count": null,
   "metadata": {},
   "outputs": [],
   "source": []
  }
 ],
 "metadata": {
  "kernelspec": {
   "display_name": "base",
   "language": "python",
   "name": "python3"
  },
  "language_info": {
   "codemirror_mode": {
    "name": "ipython",
    "version": 3
   },
   "file_extension": ".py",
   "mimetype": "text/x-python",
   "name": "python",
   "nbconvert_exporter": "python",
   "pygments_lexer": "ipython3",
   "version": "3.11.4"
  }
 },
 "nbformat": 4,
 "nbformat_minor": 2
}
