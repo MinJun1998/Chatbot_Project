{
 "cells": [
  {
   "cell_type": "markdown",
   "metadata": {},
   "source": [
    "## 공인중개사"
   ]
  },
  {
   "cell_type": "code",
   "execution_count": 1,
   "metadata": {},
   "outputs": [],
   "source": [
    "import requests, time\n",
    "import pandas as pd\n",
    "from bs4 import BeautifulSoup\n",
    "from selenium import webdriver"
   ]
  },
  {
   "cell_type": "markdown",
   "metadata": {},
   "source": [
    "- Step 1, 2"
   ]
  },
  {
   "cell_type": "code",
   "execution_count": 109,
   "metadata": {},
   "outputs": [],
   "source": [
    "url1 = 'http://www.nsdi.go.kr/lxportal/?menuno=4085'\n",
    "res = requests.get(url1)\n",
    "soup = BeautifulSoup(res.text, 'html.parser')"
   ]
  },
  {
   "cell_type": "code",
   "execution_count": 114,
   "metadata": {},
   "outputs": [
    {
     "name": "stderr",
     "output_type": "stream",
     "text": [
      "The chromedriver version (117.0.5938.88) detected in PATH at C:\\Users\\human\\Downloads\\chromedriver.exe might not be compatible with the detected chrome version (118.0.5993.118); currently, chromedriver 118.0.5993.70 is recommended for chrome 118.*, so it is advised to delete the driver in PATH and retry\n"
     ]
    }
   ],
   "source": [
    "driver = webdriver.Chrome()\n",
    "driver.get(url1)"
   ]
  },
  {
   "cell_type": "code",
   "execution_count": 97,
   "metadata": {},
   "outputs": [],
   "source": [
    "from selenium.webdriver.common.by import By\n",
    "from selenium.webdriver.support.ui import Select\n",
    "from selenium.webdriver.support.ui import WebDriverWait\n",
    "from selenium.webdriver.support import expected_conditions as EC"
   ]
  },
  {
   "cell_type": "code",
   "execution_count": 4,
   "metadata": {},
   "outputs": [],
   "source": [
    "soup = BeautifulSoup(driver.page_source, 'html.parser')\n",
    "\n"
   ]
  },
  {
   "cell_type": "code",
   "execution_count": 128,
   "metadata": {},
   "outputs": [],
   "source": [
    "# 드롭다운 메뉴 선택\n",
    "dropdown = Select(driver.find_element(By.XPATH, '//*[@id=\"shSido\"]'))\n",
    "\n",
    "# 인덱스를 사용하여 옵션 선택 (인덱스는 0부터 시작 서울 선택)\n",
    "dropdown.select_by_index(1)"
   ]
  },
  {
   "cell_type": "code",
   "execution_count": 129,
   "metadata": {},
   "outputs": [],
   "source": [
    "select_element = driver.find_element(By.CSS_SELECTOR, '.dev_table > tbody > tr > td > #shSigungu')\n",
    "\n",
    "# Select 객체 생성\n",
    "select = Select(select_element)\n",
    "\n",
    "# 옵션 선택하기 (예: '강동구' 선택)\n",
    "select.select_by_visible_text('관악구')"
   ]
  },
  {
   "cell_type": "code",
   "execution_count": 130,
   "metadata": {},
   "outputs": [],
   "source": [
    "# input 요소 찾기\n",
    "input_element = driver.find_element(By.CSS_SELECTOR, '.dev_table > tbody > tr > td > #choice1 > #shWord1')\n",
    "\n",
    "# 등록번호 입력하기\n",
    "input_element.send_keys('11620-2020-00061')"
   ]
  },
  {
   "cell_type": "code",
   "execution_count": 131,
   "metadata": {},
   "outputs": [],
   "source": [
    "#검색버튼클릭\n",
    "driver.find_element(By.CSS_SELECTOR, '.cont_area > #searchVO > .devTable > .search_btn_area > span > a').click()"
   ]
  },
  {
   "cell_type": "code",
   "execution_count": 132,
   "metadata": {},
   "outputs": [],
   "source": [
    "#상호버튼 클릭\n",
    "driver.find_element(By.XPATH, '//*[@id=\"searchVO\"]/div[2]/table/tbody/tr/td[3]/a[2]').click()"
   ]
  },
  {
   "cell_type": "code",
   "execution_count": 98,
   "metadata": {},
   "outputs": [
    {
     "name": "stdout",
     "output_type": "stream",
     "text": [
      "현재 URL: http://www.nsdi.go.kr/lxportal/?menuno=4085&devAct=view&sggCd=11620&raRegno=11620-2020-00061&sysRegno=116202020000069\n"
     ]
    }
   ],
   "source": [
    "WebDriverWait(driver, 2).until(EC.url_changes(\"http://www.nsdi.go.kr/lxportal/?menuno=4085\"))\n",
    "\n",
    "# 현재 URL 가져오기\n",
    "current_url = driver.current_url\n",
    "print(\"현재 URL:\", current_url)\n"
   ]
  },
  {
   "cell_type": "code",
   "execution_count": 99,
   "metadata": {},
   "outputs": [],
   "source": [
    "driver.get(current_url)"
   ]
  },
  {
   "cell_type": "code",
   "execution_count": 100,
   "metadata": {},
   "outputs": [
    {
     "name": "stdout",
     "output_type": "stream",
     "text": [
      "이미지 URL: http://www.nsdi.go.kr/lxportal/zcms/nsdi/land/klisapiBrokerPhoto.html?sggCd=11620&photoNo=2138\n"
     ]
    }
   ],
   "source": [
    "image_element = driver.find_element(By.XPATH, '//*[@id=\"cont_area\"]/div[2]/table/tbody/tr[2]/td[1]/img')\n",
    "# 증명사진의 소스 URL 가져오기\n",
    "image_url = image_element.get_attribute('src')\n",
    "print(\"증명사진 URL:\", image_url)"
   ]
  },
  {
   "cell_type": "code",
   "execution_count": 101,
   "metadata": {},
   "outputs": [
    {
     "name": "stdout",
     "output_type": "stream",
     "text": [
      "등록번호: 11620-2020-00061\n"
     ]
    }
   ],
   "source": [
    "# 등록번호가 있는 요소 찾기 (XPath 사용)\n",
    "registration_number_element = driver.find_element(By.XPATH, '//*[@id=\"cont_area\"]/div[2]/table/tbody/tr[2]/td[2]')\n",
    "\n",
    "# 등록번호 텍스트 가져오기\n",
    "registration_number = registration_number_element.text\n",
    "print(\"등록번호:\", registration_number)"
   ]
  },
  {
   "cell_type": "code",
   "execution_count": 102,
   "metadata": {},
   "outputs": [
    {
     "name": "stdout",
     "output_type": "stream",
     "text": [
      "상호: 좋은집공인중개사사무소\n"
     ]
    }
   ],
   "source": [
    "# 상호가 있는 요소 찾기 (XPath 사용)\n",
    "company_name_element = driver.find_element(By.XPATH, '//*[@id=\"cont_area\"]/div[2]/table/tbody/tr[2]/td[3]')\n",
    "\n",
    "# 상호 텍스트 가져오기\n",
    "company_name = company_name_element.text\n",
    "print(\"상호:\", company_name)"
   ]
  },
  {
   "cell_type": "code",
   "execution_count": 103,
   "metadata": {},
   "outputs": [
    {
     "name": "stdout",
     "output_type": "stream",
     "text": [
      "소재지: 서울특별시 관악구 남현3길 26 1층(남현동)\n"
     ]
    }
   ],
   "source": [
    "# 소재지가 있는 요소 찾기 (XPath 사용)\n",
    "location_element = driver.find_element(By.XPATH, '//*[@id=\"cont_area\"]/div[2]/table/tbody/tr[4]/td[2]')\n",
    "\n",
    "# 소재지 텍스트 가져오기\n",
    "location = location_element.text\n",
    "print(\"소재지:\", location)"
   ]
  },
  {
   "cell_type": "code",
   "execution_count": 104,
   "metadata": {},
   "outputs": [
    {
     "name": "stdout",
     "output_type": "stream",
     "text": [
      "상태: 영업중\n"
     ]
    }
   ],
   "source": [
    "# '상태'가 있는 요소 찾기 (XPath 사용)\n",
    "status_element = driver.find_element(By.XPATH, '//*[@id=\"cont_area\"]/div[2]/table/tbody/tr[6]/td[1]')\n",
    "\n",
    "# '상태' 텍스트 가져오기\n",
    "status = status_element.text\n",
    "print(\"상태:\", status)"
   ]
  },
  {
   "cell_type": "code",
   "execution_count": 105,
   "metadata": {},
   "outputs": [
    {
     "name": "stdout",
     "output_type": "stream",
     "text": [
      "대표자: 정혜연\n"
     ]
    }
   ],
   "source": [
    "# '대표자' 정보가 있는 요소 찾기 (XPath 사용)\n",
    "representative_element = driver.find_element(By.XPATH, '//*[@id=\"cont_area\"]/div[2]/table/tbody/tr[2]/td[5]')\n",
    "\n",
    "# '대표자' 텍스트 가져오기\n",
    "representative = representative_element.text\n",
    "print(\"대표자:\", representative)"
   ]
  },
  {
   "cell_type": "code",
   "execution_count": 106,
   "metadata": {},
   "outputs": [
    {
     "name": "stdout",
     "output_type": "stream",
     "text": [
      "전화번호: 02-587-1717\n"
     ]
    }
   ],
   "source": [
    "# '전화번호' 정보가 있는 요소 찾기 (XPath 사용)\n",
    "phone_number_element = driver.find_element(By.XPATH, '//*[@id=\"cont_area\"]/div[2]/table/tbody/tr[4]/td[3]')\n",
    "\n",
    "# '전화번호' 텍스트 가져오기\n",
    "phone_number = phone_number_element.text\n",
    "print(\"전화번호:\", phone_number)"
   ]
  },
  {
   "cell_type": "code",
   "execution_count": 107,
   "metadata": {},
   "outputs": [
    {
     "name": "stdout",
     "output_type": "stream",
     "text": [
      "등록일자: 2020.03.24\n"
     ]
    }
   ],
   "source": [
    "# '등록일자' 정보가 있는 요소 찾기 (XPath 사용)\n",
    "registration_date_element = driver.find_element(By.XPATH, '//*[@id=\"cont_area\"]/div[2]/table/tbody/tr[6]/td[2]')\n",
    "\n",
    "# '등록일자' 텍스트 가져오기\n",
    "registration_date = registration_date_element.text\n",
    "print(\"등록일자:\", registration_date)"
   ]
  },
  {
   "cell_type": "code",
   "execution_count": 108,
   "metadata": {},
   "outputs": [
    {
     "name": "stdout",
     "output_type": "stream",
     "text": [
      "보증보험유무: 유\n"
     ]
    }
   ],
   "source": [
    "# '보증보험유무' 정보가 있는 요소 찾기 (XPath 사용)\n",
    "insurance_status_element = driver.find_element(By.XPATH, '//*[@id=\"cont_area\"]/div[2]/table/tbody/tr[6]/td[3]')\n",
    "\n",
    "# '보증보험유무' 텍스트 가져오기\n",
    "insurance_status = insurance_status_element.text\n",
    "print(\"보증보험유무:\", insurance_status)"
   ]
  },
  {
   "cell_type": "code",
   "execution_count": null,
   "metadata": {},
   "outputs": [],
   "source": []
  }
 ],
 "metadata": {
  "kernelspec": {
   "display_name": "base",
   "language": "python",
   "name": "python3"
  },
  "language_info": {
   "codemirror_mode": {
    "name": "ipython",
    "version": 3
   },
   "file_extension": ".py",
   "mimetype": "text/x-python",
   "name": "python",
   "nbconvert_exporter": "python",
   "pygments_lexer": "ipython3",
   "version": "3.11.4"
  },
  "orig_nbformat": 4
 },
 "nbformat": 4,
 "nbformat_minor": 2
}
