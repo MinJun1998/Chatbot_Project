{
 "cells": [
  {
   "cell_type": "code",
   "execution_count": 1,
   "metadata": {},
   "outputs": [
    {
     "name": "stdout",
     "output_type": "stream",
     "text": [
      "부동산 일방 적 날자 변경 하다 없다 나가다 사람 들어오다 사람 임대 모두 통보 하다 날자 변경 협의 되다 상태 하다 하다\n"
     ]
    }
   ],
   "source": [
    "from konlpy.tag import Okt\n",
    "import re\n",
    "\n",
    "def clean_answer(answer):\n",
    "    # KoNLPy를 사용한 형태소 분석기 초기화\n",
    "    okt = Okt()\n",
    "\n",
    "    # 특수문자 및 공백 제거\n",
    "    answer = re.sub('[^가-힣ㄱ-ㅎㅏ-ㅣa-zA-Z0-9]', ' ', answer)\n",
    "\n",
    "    # 형태소 분석 및 불용어 처리\n",
    "    words = okt.pos(answer, stem=True)\n",
    "    words = [word for word, pos in words if pos not in ['Josa', 'Eomi', 'Punctuation', 'Foreign']]\n",
    "\n",
    "    # 정제된 문장으로 재구성\n",
    "    cleaned_answer = ' '.join(words)\n",
    "\n",
    "    return cleaned_answer\n",
    "\n",
    "# 예제 답변\n",
    "original_answer = '부동산이 일방적으로 날자를 변경할수는 없습니다나갈사람,들어올사람 ,임대인모두에게 통보해서 날자변경이 협의가 된상태에서 해야합니다.'\n",
    "\n",
    "# 정제된 답변 얻기\n",
    "cleaned_answer = clean_answer(original_answer)\n",
    "\n",
    "# 결과 출력\n",
    "print(cleaned_answer)\n"
   ]
  },
  {
   "cell_type": "code",
   "execution_count": 2,
   "metadata": {},
   "outputs": [
    {
     "name": "stdout",
     "output_type": "stream",
     "text": [
      "챗봇 응답이 필요한 문장입니다.\n"
     ]
    }
   ],
   "source": [
    "def transform_to_chatbot_response(cleaned_answer):\n",
    "    # 간단한 패턴 매칭을 통한 챗봇 응답 생성\n",
    "    if '날자변경' in cleaned_answer:\n",
    "        response = \"날짜 변경은 모든 관계자들과의 협의가 필요합니다.\"\n",
    "    elif '일방적' in cleaned_answer:\n",
    "        response = \"부동산 일방적인 날자 변경은 허용되지 않습니다. 협의가 필요합니다.\"\n",
    "    else:\n",
    "        response = \"챗봇 응답이 필요한 문장입니다.\"\n",
    "\n",
    "    return response\n",
    "\n",
    "# 예제 정제된 답변\n",
    "cleaned_answer = clean_answer('부동산이 일방적으로 날자를 변경할수는 없습니다나갈사람,들어올사람 ,임대인모두에게 통보해서 날자변경이 협의가 된상태에서 해야합니다.')\n",
    "\n",
    "# 챗봇 응답으로 변환\n",
    "chatbot_response = transform_to_chatbot_response(cleaned_answer)\n",
    "\n",
    "# 결과 출력\n",
    "print(chatbot_response)"
   ]
  },
  {
   "cell_type": "code",
   "execution_count": 3,
   "metadata": {},
   "outputs": [
    {
     "ename": "TypeError",
     "evalue": "'str' object is not callable",
     "output_type": "error",
     "traceback": [
      "\u001b[1;31m---------------------------------------------------------------------------\u001b[0m",
      "\u001b[1;31mTypeError\u001b[0m                                 Traceback (most recent call last)",
      "\u001b[1;32md:\\works\\03.MachineLearning\\project\\테스트3.ipynb Cell 3\u001b[0m line \u001b[0;36m1\n\u001b[1;32m----> <a href='vscode-notebook-cell:/d%3A/works/03.MachineLearning/project/%ED%85%8C%EC%8A%A4%ED%8A%B83.ipynb#W2sZmlsZQ%3D%3D?line=0'>1</a>\u001b[0m cleaned_answer(\u001b[39m'\u001b[39m\u001b[39m날자변경\u001b[39m\u001b[39m'\u001b[39m)\n",
      "\u001b[1;31mTypeError\u001b[0m: 'str' object is not callable"
     ]
    }
   ],
   "source": [
    "cleaned_answer('날자변경')"
   ]
  },
  {
   "cell_type": "code",
   "execution_count": null,
   "metadata": {},
   "outputs": [],
   "source": []
  }
 ],
 "metadata": {
  "kernelspec": {
   "display_name": "base",
   "language": "python",
   "name": "python3"
  },
  "language_info": {
   "codemirror_mode": {
    "name": "ipython",
    "version": 3
   },
   "file_extension": ".py",
   "mimetype": "text/x-python",
   "name": "python",
   "nbconvert_exporter": "python",
   "pygments_lexer": "ipython3",
   "version": "3.11.4"
  }
 },
 "nbformat": 4,
 "nbformat_minor": 2
}
