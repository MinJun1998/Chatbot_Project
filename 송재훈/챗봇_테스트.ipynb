{
 "cells": [
  {
   "cell_type": "code",
   "execution_count": 1,
   "metadata": {},
   "outputs": [],
   "source": [
    "import pandas as pd\n",
    "from sentence_transformers import SentenceTransformer\n",
    "from sklearn.metrics.pairwise import cosine_similarity"
   ]
  },
  {
   "cell_type": "code",
   "execution_count": 2,
   "metadata": {},
   "outputs": [],
   "source": [
    "model = SentenceTransformer('jhgan/ko-sroberta-multitask')"
   ]
  },
  {
   "cell_type": "code",
   "execution_count": 3,
   "metadata": {},
   "outputs": [
    {
     "data": {
      "text/html": [
       "<div>\n",
       "<style scoped>\n",
       "    .dataframe tbody tr th:only-of-type {\n",
       "        vertical-align: middle;\n",
       "    }\n",
       "\n",
       "    .dataframe tbody tr th {\n",
       "        vertical-align: top;\n",
       "    }\n",
       "\n",
       "    .dataframe thead th {\n",
       "        text-align: right;\n",
       "    }\n",
       "</style>\n",
       "<table border=\"1\" class=\"dataframe\">\n",
       "  <thead>\n",
       "    <tr style=\"text-align: right;\">\n",
       "      <th></th>\n",
       "      <th>질문</th>\n",
       "      <th>답변</th>\n",
       "    </tr>\n",
       "  </thead>\n",
       "  <tbody>\n",
       "    <tr>\n",
       "      <th>0</th>\n",
       "      <td>아파트 매도 하다 때 집 앞 에 부동산 에만 얘기 하다 동네 부동산 에 전부 다 얘...</td>\n",
       "      <td>부동산 중계 소마 다 조 금식 다르다 때문 에 최소한 곳 가보다 하다</td>\n",
       "    </tr>\n",
       "    <tr>\n",
       "      <th>1</th>\n",
       "      <td>제 꿈 부동산 운영 하다 매매 도 열심히 해드리다 돈 도 많이 벌 고 싶다 살 이다...</td>\n",
       "      <td>안녕하다 박다 상 공인 중개사 이다 부동산 운영 하고 돈 버 것 나이 와는 전혀 상...</td>\n",
       "    </tr>\n",
       "    <tr>\n",
       "      <th>2</th>\n",
       "      <td>사정 좋다 않다 지금 매다 없다 집 파다 ㅜㅜ 근처 부동산 에는 전화 돌리다 보다 ...</td>\n",
       "      <td>안녕하다 홍성 택 공인 중개사 이다 지금 부동산 시장 얼어붙다 다 들다 관망 중 인...</td>\n",
       "    </tr>\n",
       "    <tr>\n",
       "      <th>3</th>\n",
       "      <td>곧 계약 다 되다 월세 방 구해 야하다 집 구 하다 때 도 부동산 사람 의도 적 으...</td>\n",
       "      <td>안녕하다 서주환 공인 중개사 이다 여러 군데 공인 중개사 통해 다양하다 매물 확인 ...</td>\n",
       "    </tr>\n",
       "    <tr>\n",
       "      <th>4</th>\n",
       "      <td>반려견 마리 있다 부동산 하루 에 곳도 가보다 하나같이 집 없다 또는 집주인 개다 ...</td>\n",
       "      <td>안녕하다 양정 섭 공인 중개사 이다 안타깝다 집주인 반려견 허락 하다 계약 되다 집...</td>\n",
       "    </tr>\n",
       "  </tbody>\n",
       "</table>\n",
       "</div>"
      ],
      "text/plain": [
       "                                                  질문  \\\n",
       "0  아파트 매도 하다 때 집 앞 에 부동산 에만 얘기 하다 동네 부동산 에 전부 다 얘...   \n",
       "1  제 꿈 부동산 운영 하다 매매 도 열심히 해드리다 돈 도 많이 벌 고 싶다 살 이다...   \n",
       "2  사정 좋다 않다 지금 매다 없다 집 파다 ㅜㅜ 근처 부동산 에는 전화 돌리다 보다 ...   \n",
       "3  곧 계약 다 되다 월세 방 구해 야하다 집 구 하다 때 도 부동산 사람 의도 적 으...   \n",
       "4  반려견 마리 있다 부동산 하루 에 곳도 가보다 하나같이 집 없다 또는 집주인 개다 ...   \n",
       "\n",
       "                                                  답변  \n",
       "0             부동산 중계 소마 다 조 금식 다르다 때문 에 최소한 곳 가보다 하다  \n",
       "1  안녕하다 박다 상 공인 중개사 이다 부동산 운영 하고 돈 버 것 나이 와는 전혀 상...  \n",
       "2  안녕하다 홍성 택 공인 중개사 이다 지금 부동산 시장 얼어붙다 다 들다 관망 중 인...  \n",
       "3  안녕하다 서주환 공인 중개사 이다 여러 군데 공인 중개사 통해 다양하다 매물 확인 ...  \n",
       "4  안녕하다 양정 섭 공인 중개사 이다 안타깝다 집주인 반려견 허락 하다 계약 되다 집...  "
      ]
     },
     "execution_count": 3,
     "metadata": {},
     "output_type": "execute_result"
    }
   ],
   "source": [
    "df = pd.read_csv('data/chatbot_data.csv')\n",
    "df.head()"
   ]
  },
  {
   "cell_type": "code",
   "execution_count": 4,
   "metadata": {},
   "outputs": [
    {
     "data": {
      "text/plain": [
       "(309, 2)"
      ]
     },
     "execution_count": 4,
     "metadata": {},
     "output_type": "execute_result"
    }
   ],
   "source": [
    "df.shape"
   ]
  },
  {
   "cell_type": "code",
   "execution_count": null,
   "metadata": {},
   "outputs": [],
   "source": []
  }
 ],
 "metadata": {
  "kernelspec": {
   "display_name": "base",
   "language": "python",
   "name": "python3"
  },
  "language_info": {
   "codemirror_mode": {
    "name": "ipython",
    "version": 3
   },
   "file_extension": ".py",
   "mimetype": "text/x-python",
   "name": "python",
   "nbconvert_exporter": "python",
   "pygments_lexer": "ipython3",
   "version": "3.11.4"
  }
 },
 "nbformat": 4,
 "nbformat_minor": 2
}
